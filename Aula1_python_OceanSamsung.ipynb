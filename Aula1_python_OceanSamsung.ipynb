{
  "nbformat": 4,
  "nbformat_minor": 0,
  "metadata": {
    "colab": {
      "name": "Aula1_python_OceanSamsung.ipynb",
      "provenance": [],
      "authorship_tag": "ABX9TyMIXksT36adnAuI2/PBd0FQ",
      "include_colab_link": true
    },
    "kernelspec": {
      "name": "python3",
      "display_name": "Python 3"
    }
  },
  "cells": [
    {
      "cell_type": "markdown",
      "metadata": {
        "id": "view-in-github",
        "colab_type": "text"
      },
      "source": [
        "<a href=\"https://colab.research.google.com/github/digorcrispim/Ocean_Samsung/blob/main/Aula1_python_OceanSamsung.ipynb\" target=\"_parent\"><img src=\"https://colab.research.google.com/assets/colab-badge.svg\" alt=\"Open In Colab\"/></a>"
      ]
    },
    {
      "cell_type": "code",
      "metadata": {
        "colab": {
          "base_uri": "https://localhost:8080/"
        },
        "id": "neE3bqQM9mNJ",
        "outputId": "7740223a-f499-41d7-c9f6-60dac8469576"
      },
      "source": [
        "print(\" Olá, mundo!\")\n",
        "print(2)"
      ],
      "execution_count": null,
      "outputs": [
        {
          "output_type": "stream",
          "text": [
            " Olá, mundo!\n",
            "2\n"
          ],
          "name": "stdout"
        }
      ]
    },
    {
      "cell_type": "code",
      "metadata": {
        "colab": {
          "base_uri": "https://localhost:8080/"
        },
        "id": "VPV9e2_b_4_-",
        "outputId": "a1e0b171-85d9-4a27-cdee-cd9a590632e6"
      },
      "source": [
        "nome = \"Olá, mundo!\"\n",
        "print(nome)"
      ],
      "execution_count": null,
      "outputs": [
        {
          "output_type": "stream",
          "text": [
            "Olá, mundo!\n"
          ],
          "name": "stdout"
        }
      ]
    },
    {
      "cell_type": "code",
      "metadata": {
        "colab": {
          "base_uri": "https://localhost:8080/"
        },
        "id": "C1PVwlwJBKrM",
        "outputId": "c4e4db4c-8438-49e5-a02c-04bfa243fcfa"
      },
      "source": [
        "# Declara a informação e guarda na memória\n",
        "numero = 5\n",
        "\n",
        "# Depois, acessamos a informação e fizemos algo com ela\n",
        "#No caso, usamos o print() para exibi-la no console\n",
        "print(numero)"
      ],
      "execution_count": null,
      "outputs": [
        {
          "output_type": "stream",
          "text": [
            "5\n"
          ],
          "name": "stdout"
        }
      ]
    },
    {
      "cell_type": "code",
      "metadata": {
        "colab": {
          "base_uri": "https://localhost:8080/"
        },
        "id": "slRtMqyRC-GE",
        "outputId": "095ac295-6c52-44c2-bd23-015502ef621c"
      },
      "source": [
        "numero = numero + 5\n",
        "print(numero)"
      ],
      "execution_count": null,
      "outputs": [
        {
          "output_type": "stream",
          "text": [
            "10\n"
          ],
          "name": "stdout"
        }
      ]
    },
    {
      "cell_type": "code",
      "metadata": {
        "id": "sU2PAwCRD5Gp"
      },
      "source": [
        "# comentários\n",
        "\n",
        "\"\"\" aaaaaaa\n",
        "oasjidja\n",
        "asijdiajd\n",
        "\"\"\"\"\n",
        "\n",
        "#ou\n",
        "\n",
        "'''\n",
        "aaaa\n",
        "bbb\n",
        "ccc\n",
        "'''"
      ],
      "execution_count": null,
      "outputs": []
    },
    {
      "cell_type": "code",
      "metadata": {
        "colab": {
          "base_uri": "https://localhost:8080/"
        },
        "id": "t5is8bVUEFit",
        "outputId": "5685f9c4-ef29-4d32-f621-8f5a63993319"
      },
      "source": [
        "numero = 5 # número inteiro\n",
        "numero_decimal = 5.5 # numero decimal\n",
        "texto = \"Paulo\" # texto\n",
        "maiorIdade = True # booleano\n",
        "\n",
        "print(numero)\n",
        "print(numero_decimal)\n",
        "print(texto)\n",
        "print(maiorIdade)\n",
        "\n",
        "tipo_numero = type(numero)\n",
        "print(tipo_numero)\n",
        "\n",
        "print(type(numero))\n",
        "\n",
        "print(numero,type(numero))"
      ],
      "execution_count": null,
      "outputs": [
        {
          "output_type": "stream",
          "text": [
            "5\n",
            "5.5\n",
            "Paulo\n",
            "True\n",
            "<class 'int'>\n",
            "<class 'int'>\n",
            "5 <class 'int'>\n"
          ],
          "name": "stdout"
        }
      ]
    },
    {
      "cell_type": "code",
      "metadata": {
        "colab": {
          "base_uri": "https://localhost:8080/"
        },
        "id": "Ps_usxWKGsyV",
        "outputId": "0d1f6dc5-bd60-47d4-e18c-1f1e63ecdca3"
      },
      "source": [
        "print(type(texto))"
      ],
      "execution_count": null,
      "outputs": [
        {
          "output_type": "stream",
          "text": [
            "<class 'str'>\n"
          ],
          "name": "stdout"
        }
      ]
    },
    {
      "cell_type": "code",
      "metadata": {
        "colab": {
          "base_uri": "https://localhost:8080/"
        },
        "id": "38HPG8w7GyN0",
        "outputId": "5134e07e-094c-4fb3-a289-ea77ae6b753d"
      },
      "source": [
        "print( 5+5)\n",
        "\n",
        "print(\"Paulo\" + \"Salvatore\")"
      ],
      "execution_count": null,
      "outputs": [
        {
          "output_type": "stream",
          "text": [
            "10\n",
            "PauloSalvatore\n"
          ],
          "name": "stdout"
        }
      ]
    },
    {
      "cell_type": "code",
      "metadata": {
        "colab": {
          "base_uri": "https://localhost:8080/"
        },
        "id": "kUntBRW8IFM3",
        "outputId": "2e0b6038-db8d-4ab1-dcb8-3bf8e953b86b"
      },
      "source": [
        "soma = 2 +3.5\n",
        "subtracao = 3-8\n",
        "divisao = 10/3\n",
        "multiplicacao = 2.5*3\n",
        "\n",
        "exponenciacao = 2**3\n",
        "quociente_div = 10//3\n",
        "resto_div = 10%3\n",
        "\n",
        "print(soma, subtracao, divisao, multiplicação)\n"
      ],
      "execution_count": null,
      "outputs": [
        {
          "output_type": "stream",
          "text": [
            "5.5 -5 3.3333333333333335 7.5\n"
          ],
          "name": "stdout"
        }
      ]
    },
    {
      "cell_type": "code",
      "metadata": {
        "colab": {
          "base_uri": "https://localhost:8080/"
        },
        "id": "jrokdSZzIIQO",
        "outputId": "6d0976ef-32cf-4f82-8554-2e72646960d0"
      },
      "source": [
        "print(divisao, div_inteiro)"
      ],
      "execution_count": null,
      "outputs": [
        {
          "output_type": "stream",
          "text": [
            "1.75 1\n"
          ],
          "name": "stdout"
        }
      ]
    },
    {
      "cell_type": "code",
      "metadata": {
        "colab": {
          "base_uri": "https://localhost:8080/"
        },
        "id": "KNl133rRJv2v",
        "outputId": "10e676dd-4272-4f0c-8eaa-4667c5895e08"
      },
      "source": [
        "print(\"10/3 = \", divisao, \"ou 10//3 = \", quociente_div, \"e 10%3 = \" ,resto_div)"
      ],
      "execution_count": null,
      "outputs": [
        {
          "output_type": "stream",
          "text": [
            "10/3 =  3.3333333333333335 ou 10//3 =  3 e 10%3 =  1\n"
          ],
          "name": "stdout"
        }
      ]
    },
    {
      "cell_type": "code",
      "metadata": {
        "id": "pY5WaOmhK3J7"
      },
      "source": [
        ""
      ],
      "execution_count": null,
      "outputs": []
    },
    {
      "cell_type": "markdown",
      "metadata": {
        "id": "oK6WYuJ5LK6q"
      },
      "source": [
        "Exercício 1 - \" E os 10% do garçom?\"\n",
        "\n",
        "- Defina uma variavel para o valor de um refeição que custou R$ 42,54;\n",
        "- Defina uma variavel para o valor da taxa de serviço que é de 10%;\n",
        "- Defina uma variavel que calcula o valor total da conta e exibi-lo no console( sem formatação, por enquanto, apenas o valor resultado)."
      ]
    },
    {
      "cell_type": "code",
      "metadata": {
        "colab": {
          "base_uri": "https://localhost:8080/"
        },
        "id": "-iUA7bSELo2G",
        "outputId": "5bcab869-f691-4880-a9b8-978ba8da7101"
      },
      "source": [
        "refeicao = valor_refeicao = float(input(\"Digite o valor da refeicao: \"))\n",
        "tx_serv = 1.1\n",
        "total = refeicao*tx_serv\n",
        "gorjeta = total_pago - refeicao\n",
        "\n",
        "print(\" O valor da Refeição mais o serviço é: \" + str(total))"
      ],
      "execution_count": null,
      "outputs": [
        {
          "output_type": "stream",
          "text": [
            "Digite o valor da refeicao: 42.54\n",
            " O valor da Refeição mais o serviço é: 46.794000000000004\n"
          ],
          "name": "stdout"
        }
      ]
    },
    {
      "cell_type": "code",
      "metadata": {
        "colab": {
          "base_uri": "https://localhost:8080/"
        },
        "id": "e9RoMnpxVt_-",
        "outputId": "7f9dd509-1774-4aac-e97b-3dffb0527597"
      },
      "source": [
        "#formatando strings\n",
        "print(f\"O valor da refeição: mais o serviço é: {total} reais.\")"
      ],
      "execution_count": null,
      "outputs": [
        {
          "output_type": "stream",
          "text": [
            "O valor da refeição: mais o serviço é: 46.794000000000004 reais.\n"
          ],
          "name": "stdout"
        }
      ]
    },
    {
      "cell_type": "code",
      "metadata": {
        "colab": {
          "base_uri": "https://localhost:8080/"
        },
        "id": "_fTjhzwHWm5F",
        "outputId": "3cec82a9-4eb4-4571-df5e-482bb6670ec9"
      },
      "source": [
        "# arredondando com 2 casas = .2f\n",
        "#arredondando com 1 casa = .1f\n",
        "print(f\"O valor da refeição: mais o serviço é: R${total:.2f} reais.\")\n"
      ],
      "execution_count": null,
      "outputs": [
        {
          "output_type": "stream",
          "text": [
            "O valor da refeição: mais o serviço é: R$46.79 reais.\n"
          ],
          "name": "stdout"
        }
      ]
    },
    {
      "cell_type": "code",
      "metadata": {
        "colab": {
          "base_uri": "https://localhost:8080/"
        },
        "id": "bckrAocvROTs",
        "outputId": "08245def-6002-47a6-feb2-e1817bccba79"
      },
      "source": [
        "valor_refeicao = input(\"Digite o valor da refeicao: \")"
      ],
      "execution_count": null,
      "outputs": [
        {
          "output_type": "stream",
          "text": [
            "Digite o valor da refeicao: 42.54\n"
          ],
          "name": "stdout"
        }
      ]
    },
    {
      "cell_type": "code",
      "metadata": {
        "colab": {
          "base_uri": "https://localhost:8080/"
        },
        "id": "_eKdDgsSTrfp",
        "outputId": "647f65b9-02a8-45da-c787-b45182ed0e48"
      },
      "source": [
        "valor_refeicao = float(input(\"Digite o valor da refeicao: \"))"
      ],
      "execution_count": null,
      "outputs": [
        {
          "output_type": "stream",
          "text": [
            "Digite o valor da refeicao: 42.54\n"
          ],
          "name": "stdout"
        }
      ]
    },
    {
      "cell_type": "code",
      "metadata": {
        "id": "o1oDxPipT4aY"
      },
      "source": [
        "valor_refeicao = float(input(\"Digite o valor da refeicao: \"))"
      ],
      "execution_count": null,
      "outputs": []
    },
    {
      "cell_type": "code",
      "metadata": {
        "colab": {
          "base_uri": "https://localhost:8080/"
        },
        "id": "4ty_IqliR_Iv",
        "outputId": "188b5b26-f8cb-4c2d-de0a-0725bc793bfd"
      },
      "source": [
        "print(type(valor_refeicao))"
      ],
      "execution_count": null,
      "outputs": [
        {
          "output_type": "stream",
          "text": [
            "<class 'str'>\n"
          ],
          "name": "stdout"
        }
      ]
    },
    {
      "cell_type": "code",
      "metadata": {
        "colab": {
          "base_uri": "https://localhost:8080/"
        },
        "id": "TGaqcgIoTQnK",
        "outputId": "1e643345-d8ee-454c-8e4c-9544972167d1"
      },
      "source": [
        "# convertendo formatos\n",
        "\n",
        "int(\"10\")"
      ],
      "execution_count": null,
      "outputs": [
        {
          "output_type": "execute_result",
          "data": {
            "text/plain": [
              "10"
            ]
          },
          "metadata": {
            "tags": []
          },
          "execution_count": 47
        }
      ]
    },
    {
      "cell_type": "code",
      "metadata": {
        "id": "x8RXurphch2_"
      },
      "source": [
        "if "
      ],
      "execution_count": null,
      "outputs": []
    },
    {
      "cell_type": "code",
      "metadata": {
        "id": "zMy93sI9clxt"
      },
      "source": [
        "def exibir_dados(dados):\n",
        "  print(dado)\n",
        "  print(5)\n",
        "  print(\"Dentro do def\")\n",
        "print (\"Fora do def\")\n",
        "\n",
        "exibir_dados(dados)"
      ],
      "execution_count": null,
      "outputs": []
    }
  ]
}