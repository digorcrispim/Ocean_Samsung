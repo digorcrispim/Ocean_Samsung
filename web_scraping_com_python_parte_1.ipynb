{
  "nbformat": 4,
  "nbformat_minor": 0,
  "metadata": {
    "kernelspec": {
      "language": "python",
      "display_name": "Python 3",
      "name": "python3"
    },
    "language_info": {
      "name": "python",
      "version": "3.7.6",
      "mimetype": "text/x-python",
      "codemirror_mode": {
        "name": "ipython",
        "version": 3
      },
      "pygments_lexer": "ipython3",
      "nbconvert_exporter": "python",
      "file_extension": ".py"
    },
    "colab": {
      "name": "web-scraping-com-python-parte-1.ipynb",
      "provenance": [],
      "include_colab_link": true
    }
  },
  "cells": [
    {
      "cell_type": "markdown",
      "metadata": {
        "id": "view-in-github",
        "colab_type": "text"
      },
      "source": [
        "<a href=\"https://colab.research.google.com/github/digorcrispim/Ocean_Samsung/blob/main/web_scraping_com_python_parte_1.ipynb\" target=\"_parent\"><img src=\"https://colab.research.google.com/assets/colab-badge.svg\" alt=\"Open In Colab\"/></a>"
      ]
    },
    {
      "cell_type": "markdown",
      "metadata": {
        "id": "_d4S021cKSPZ"
      },
      "source": [
        "# Web Scraping com Python (Parte 1)\n",
        "\n",
        "## Resumo\n",
        "\n",
        "Neste notebook, iremos conhecer o [Beautiful Soup](https://www.crummy.com/software/BeautifulSoup/bs4/doc/) e faremos alguns exemplos com HTML para entendemos o funcionamento desta biblioteca.\n",
        "\n",
        "## Para saber mais:\n",
        "\n",
        "* Palestras e cursos do [Samsung Ocean](http://www.oceanbrasil.com/).\n",
        "* Ryan Mitchell. Web Scraping com Python: Coletando Mais Dados da Web Moderna. Novatec Editora, 2019."
      ]
    },
    {
      "cell_type": "markdown",
      "metadata": {
        "id": "LO0tSzITKSPi"
      },
      "source": [
        "## 1) Explorando o HTML\n",
        "\n",
        "Para os exemplos a seguir, iremos utilizar o código HTML abaixo."
      ]
    },
    {
      "cell_type": "markdown",
      "metadata": {
        "id": "zTfq6zmTKSPj"
      },
      "source": [
        "<html>\n",
        "    <head>\n",
        "        <title>Indicados e vencedores do Oscar em 2020</title>\n",
        "    </head>\n",
        "    <body>\n",
        "        <h1>Oscar 2020</h1>\n",
        "        <p>A maior premiação do cinema aconteceu em Fevereiro. Os destaques deste ano foram:</p>\n",
        "        <ul class=\"destaques\">\n",
        "            <li>Coringa</li>\n",
        "            <li>1917</li>\n",
        "            <li>Era Uma Vez em Hollywood</li>\n",
        "            <li>O Irlandês</li>\n",
        "        </ul>\n",
        "        <p>Veja abaixo os vencedores de 3 categorias.</p>\n",
        "        <div>\n",
        "            <div class=\"categoria-melhor-filme\">\n",
        "                <h2>Categoria: melhor filme</h2>\n",
        "                <ul>\n",
        "                    <li>Ford vs Ferrari</li>\n",
        "                    <li>O Irlandês</li>\n",
        "                    <li>JoJo Rabbit</li>\n",
        "                    <li>Coringa</li>\n",
        "                    <li>Adoráveis Mulheres</li>\n",
        "                    <li>História de um Casamento</li>\n",
        "                    <li>1917</li>\n",
        "                    <li>Era Uma Vez Em Hollywood</li>\n",
        "                    <li class=\"vencedor\">Parasita <strong>[VENCEDOR]</strong></li>\n",
        "                </ul>\n",
        "            </div>\n",
        "            <br>\n",
        "            <div class=\"categoria-melhor-ator\">\n",
        "                <h2>Categoria: melhor ator</h2>\n",
        "                <ul>\n",
        "                    <li>Antonio Banderas - Dor e Glória</li>\n",
        "                    <li>Leonardo DiCaprio - Era Uma Vez Em... Hollywood</li>\n",
        "                    <li>Adam Driver - História de um Casamento</li>\n",
        "                    <li class=\"vencedor\">Joaquin Phoenix - Coringa <strong>[VENCEDOR]</strong></li>\n",
        "                    <li>Jonathan Price - Dois Papas</li>\n",
        "                </ul>\n",
        "            </div>\n",
        "            <br>\n",
        "            <div class=\"categoria-melhor-atriz\">\n",
        "                <h2>Categoria: melhor atriz</h2>\n",
        "                <ul>\n",
        "                    <li>Cythia Erivo - Harriet</li>\n",
        "                    <li>Scarlett Johansson - História de um Casamento</li>\n",
        "                    <li>Saoirse Ronan - Adoráveis Mulheres</li>\n",
        "                    <li>Charlize Theron - O Escândalo</li>\n",
        "                    <li class=\"vencedor\">Renée Zellweger - Judy: Muito Além do Arco-Íris <strong>[VENCEDOR]</strong></li>\n",
        "                </ul>\n",
        "            </div>\n",
        "        </div>\n",
        "    </body>\n",
        "</html>"
      ]
    },
    {
      "cell_type": "code",
      "metadata": {
        "trusted": true,
        "id": "Qwj81e4UKSPl"
      },
      "source": [
        "html = \"\"\"\n",
        "<html>\n",
        "    <head>\n",
        "        <title>Indicados e vencedores do Oscar em 2020</title>\n",
        "    </head>\n",
        "    <body>\n",
        "        <h1>Oscar 2020</h1>\n",
        "        <p>A maior premiação do cinema aconteceu em Fevereiro. Os destaques deste ano foram:</p>\n",
        "        <ul class=\"destaques\">\n",
        "            <li>Coringa</li>\n",
        "            <li>1917</li>\n",
        "            <li>Era Uma Vez em Hollywood</li>\n",
        "            <li>O Irlandês</li>\n",
        "        </ul>\n",
        "        <p>Veja abaixo os vencedores de 3 categorias.</p>\n",
        "        <div>\n",
        "            <div class=\"categoria-melhor-filme\">\n",
        "                <h2>Categoria: melhor filme</h2>\n",
        "                <ul>\n",
        "                    <li>Ford vs Ferrari</li>\n",
        "                    <li>O Irlandês</li>\n",
        "                    <li>JoJo Rabbit</li>\n",
        "                    <li>Coringa</li>\n",
        "                    <li>Adoráveis Mulheres</li>\n",
        "                    <li>História de um Casamento</li>\n",
        "                    <li>1917</li>\n",
        "                    <li>Era Uma Vez Em Hollywood</li>\n",
        "                    <li class=\"vencedor\">Parasita <strong>[VENCEDOR]</strong></li>\n",
        "                </ul>\n",
        "            </div>\n",
        "            <br>\n",
        "            <div class=\"categoria-melhor-ator\">\n",
        "                <h2>Categoria: melhor ator</h2>\n",
        "                <ul>\n",
        "                    <li>Antonio Banderas - Dor e Glória</li>\n",
        "                    <li>Leonardo DiCaprio - Era Uma Vez Em... Hollywood</li>\n",
        "                    <li>Adam Driver - História de um Casamento</li>\n",
        "                    <li class=\"vencedor\">Joaquin Phoenix - Coringa <strong>[VENCEDOR]</strong></li>\n",
        "                    <li>Jonathan Price - Dois Papas</li>\n",
        "                </ul>\n",
        "            </div>\n",
        "            <br>\n",
        "            <div class=\"categoria-melhor-atriz\">\n",
        "                <h2>Categoria: melhor atriz</h2>\n",
        "                <ul>\n",
        "                    <li>Cythia Erivo - Harriet</li>\n",
        "                    <li>Scarlett Johansson - História de um Casamento</li>\n",
        "                    <li>Saoirse Ronan - Adoráveis Mulheres</li>\n",
        "                    <li>Charlize Theron - O Escândalo</li>\n",
        "                    <li class=\"vencedor\">Renée Zellweger - Judy: Muito Além do Arco-Íris <strong>[VENCEDOR]</strong></li>\n",
        "                </ul>\n",
        "            </div>\n",
        "        </div>\n",
        "    </body>\n",
        "</html>\n",
        "\"\"\""
      ],
      "execution_count": null,
      "outputs": []
    },
    {
      "cell_type": "markdown",
      "metadata": {
        "id": "WXakyXH8KSPn"
      },
      "source": [
        "## 2) Criando um objeto Beautiful Soup"
      ]
    },
    {
      "cell_type": "code",
      "metadata": {
        "_uuid": "d629ff2d2480ee46fbb7e2d37f6b5fab8052498a",
        "_cell_guid": "79c7e3d0-c299-4dcb-8224-4455121ee9b0",
        "trusted": true,
        "id": "uh5o7wGXKSPn"
      },
      "source": [
        "from bs4 import BeautifulSoup"
      ],
      "execution_count": null,
      "outputs": []
    },
    {
      "cell_type": "code",
      "metadata": {
        "trusted": true,
        "id": "6zKmkmQoKSPo"
      },
      "source": [
        "soup = BeautifulSoup(html, 'html.parser')"
      ],
      "execution_count": null,
      "outputs": []
    },
    {
      "cell_type": "code",
      "metadata": {
        "trusted": true,
        "id": "lZfE05kSKSPo",
        "outputId": "64519a18-0f27-4415-b942-e5cee504de92"
      },
      "source": [
        "type(soup)"
      ],
      "execution_count": null,
      "outputs": [
        {
          "output_type": "execute_result",
          "data": {
            "text/plain": [
              "bs4.BeautifulSoup"
            ]
          },
          "metadata": {
            "tags": []
          },
          "execution_count": 4
        }
      ]
    },
    {
      "cell_type": "code",
      "metadata": {
        "trusted": true,
        "id": "TfRJNzd-KSPq",
        "outputId": "8245fabf-d17f-4efc-8e53-a0f83e263559"
      },
      "source": [
        "soup"
      ],
      "execution_count": null,
      "outputs": [
        {
          "output_type": "execute_result",
          "data": {
            "text/plain": [
              "\n",
              "<html>\n",
              "<head>\n",
              "<title>Indicados e vencedores do Oscar em 2020</title>\n",
              "</head>\n",
              "<body>\n",
              "<h1>Oscar 2020</h1>\n",
              "<p>A maior premiação do cinema aconteceu em Fevereiro. Os destaques deste ano foram:</p>\n",
              "<ul class=\"destaques\">\n",
              "<li>Coringa</li>\n",
              "<li>1917</li>\n",
              "<li>Era Uma Vez em Hollywood</li>\n",
              "<li>O Irlandês</li>\n",
              "</ul>\n",
              "<p>Veja abaixo os vencedores de 3 categorias.</p>\n",
              "<div>\n",
              "<div class=\"categoria-melhor-filme\">\n",
              "<h2>Categoria: melhor filme</h2>\n",
              "<ul>\n",
              "<li>Ford vs Ferrari</li>\n",
              "<li>O Irlandês</li>\n",
              "<li>JoJo Rabbit</li>\n",
              "<li>Coringa</li>\n",
              "<li>Adoráveis Mulheres</li>\n",
              "<li>História de um Casamento</li>\n",
              "<li>1917</li>\n",
              "<li>Era Uma Vez Em Hollywood</li>\n",
              "<li class=\"vencedor\">Parasita <strong>[VENCEDOR]</strong></li>\n",
              "</ul>\n",
              "</div>\n",
              "<br/>\n",
              "<div class=\"categoria-melhor-ator\">\n",
              "<h2>Categoria: melhor ator</h2>\n",
              "<ul>\n",
              "<li>Antonio Banderas - Dor e Glória</li>\n",
              "<li>Leonardo DiCaprio - Era Uma Vez Em... Hollywood</li>\n",
              "<li>Adam Driver - História de um Casamento</li>\n",
              "<li class=\"vencedor\">Joaquin Phoenix - Coringa <strong>[VENCEDOR]</strong></li>\n",
              "<li>Jonathan Price - Dois Papas</li>\n",
              "</ul>\n",
              "</div>\n",
              "<br/>\n",
              "<div class=\"categoria-melhor-atriz\">\n",
              "<h2>Categoria: melhor atriz</h2>\n",
              "<ul>\n",
              "<li>Cythia Erivo - Harriet</li>\n",
              "<li>Scarlett Johansson - História de um Casamento</li>\n",
              "<li>Saoirse Ronan - Adoráveis Mulheres</li>\n",
              "<li>Charlize Theron - O Escândalo</li>\n",
              "<li class=\"vencedor\">Renée Zellweger - Judy: Muito Além do Arco-Íris <strong>[VENCEDOR]</strong></li>\n",
              "</ul>\n",
              "</div>\n",
              "</div>\n",
              "</body>\n",
              "</html>"
            ]
          },
          "metadata": {
            "tags": []
          },
          "execution_count": 5
        }
      ]
    },
    {
      "cell_type": "code",
      "metadata": {
        "trusted": true,
        "id": "f5qFS6cwKSPq",
        "outputId": "10918191-816c-402a-db54-780d4a4164e5"
      },
      "source": [
        "print(soup.prettify()) # mostra as hierarquias"
      ],
      "execution_count": null,
      "outputs": [
        {
          "output_type": "stream",
          "text": [
            "<html>\n",
            " <head>\n",
            "  <title>\n",
            "   Indicados e vencedores do Oscar em 2020\n",
            "  </title>\n",
            " </head>\n",
            " <body>\n",
            "  <h1>\n",
            "   Oscar 2020\n",
            "  </h1>\n",
            "  <p>\n",
            "   A maior premiação do cinema aconteceu em Fevereiro. Os destaques deste ano foram:\n",
            "  </p>\n",
            "  <ul class=\"destaques\">\n",
            "   <li>\n",
            "    Coringa\n",
            "   </li>\n",
            "   <li>\n",
            "    1917\n",
            "   </li>\n",
            "   <li>\n",
            "    Era Uma Vez em Hollywood\n",
            "   </li>\n",
            "   <li>\n",
            "    O Irlandês\n",
            "   </li>\n",
            "  </ul>\n",
            "  <p>\n",
            "   Veja abaixo os vencedores de 3 categorias.\n",
            "  </p>\n",
            "  <div>\n",
            "   <div class=\"categoria-melhor-filme\">\n",
            "    <h2>\n",
            "     Categoria: melhor filme\n",
            "    </h2>\n",
            "    <ul>\n",
            "     <li>\n",
            "      Ford vs Ferrari\n",
            "     </li>\n",
            "     <li>\n",
            "      O Irlandês\n",
            "     </li>\n",
            "     <li>\n",
            "      JoJo Rabbit\n",
            "     </li>\n",
            "     <li>\n",
            "      Coringa\n",
            "     </li>\n",
            "     <li>\n",
            "      Adoráveis Mulheres\n",
            "     </li>\n",
            "     <li>\n",
            "      História de um Casamento\n",
            "     </li>\n",
            "     <li>\n",
            "      1917\n",
            "     </li>\n",
            "     <li>\n",
            "      Era Uma Vez Em Hollywood\n",
            "     </li>\n",
            "     <li class=\"vencedor\">\n",
            "      Parasita\n",
            "      <strong>\n",
            "       [VENCEDOR]\n",
            "      </strong>\n",
            "     </li>\n",
            "    </ul>\n",
            "   </div>\n",
            "   <br/>\n",
            "   <div class=\"categoria-melhor-ator\">\n",
            "    <h2>\n",
            "     Categoria: melhor ator\n",
            "    </h2>\n",
            "    <ul>\n",
            "     <li>\n",
            "      Antonio Banderas - Dor e Glória\n",
            "     </li>\n",
            "     <li>\n",
            "      Leonardo DiCaprio - Era Uma Vez Em... Hollywood\n",
            "     </li>\n",
            "     <li>\n",
            "      Adam Driver - História de um Casamento\n",
            "     </li>\n",
            "     <li class=\"vencedor\">\n",
            "      Joaquin Phoenix - Coringa\n",
            "      <strong>\n",
            "       [VENCEDOR]\n",
            "      </strong>\n",
            "     </li>\n",
            "     <li>\n",
            "      Jonathan Price - Dois Papas\n",
            "     </li>\n",
            "    </ul>\n",
            "   </div>\n",
            "   <br/>\n",
            "   <div class=\"categoria-melhor-atriz\">\n",
            "    <h2>\n",
            "     Categoria: melhor atriz\n",
            "    </h2>\n",
            "    <ul>\n",
            "     <li>\n",
            "      Cythia Erivo - Harriet\n",
            "     </li>\n",
            "     <li>\n",
            "      Scarlett Johansson - História de um Casamento\n",
            "     </li>\n",
            "     <li>\n",
            "      Saoirse Ronan - Adoráveis Mulheres\n",
            "     </li>\n",
            "     <li>\n",
            "      Charlize Theron - O Escândalo\n",
            "     </li>\n",
            "     <li class=\"vencedor\">\n",
            "      Renée Zellweger - Judy: Muito Além do Arco-Íris\n",
            "      <strong>\n",
            "       [VENCEDOR]\n",
            "      </strong>\n",
            "     </li>\n",
            "    </ul>\n",
            "   </div>\n",
            "  </div>\n",
            " </body>\n",
            "</html>\n",
            "\n"
          ],
          "name": "stdout"
        }
      ]
    },
    {
      "cell_type": "markdown",
      "metadata": {
        "id": "tjPY-NWbKSPr"
      },
      "source": [
        "## 3) Aprendendo a extrair dados de tags no HTML"
      ]
    },
    {
      "cell_type": "markdown",
      "metadata": {
        "id": "2dnOWEtmKSPr"
      },
      "source": [
        "### 3.1) Começando pelo começo: como extrair o título da página?"
      ]
    },
    {
      "cell_type": "code",
      "metadata": {
        "trusted": true,
        "id": "ksApXvanKSPr",
        "outputId": "71254dbe-5202-4131-c7cf-73940be8e764"
      },
      "source": [
        "soup.html.head.title"
      ],
      "execution_count": null,
      "outputs": [
        {
          "output_type": "execute_result",
          "data": {
            "text/plain": [
              "<title>Indicados e vencedores do Oscar em 2020</title>"
            ]
          },
          "metadata": {
            "tags": []
          },
          "execution_count": 7
        }
      ]
    },
    {
      "cell_type": "code",
      "metadata": {
        "trusted": true,
        "id": "KOGIhvlOKSPs",
        "outputId": "0ab8ca75-51af-4a3e-f786-6a38c259ef97"
      },
      "source": [
        "soup.title #imprime a tag"
      ],
      "execution_count": null,
      "outputs": [
        {
          "output_type": "execute_result",
          "data": {
            "text/plain": [
              "<title>Indicados e vencedores do Oscar em 2020</title>"
            ]
          },
          "metadata": {
            "tags": []
          },
          "execution_count": 8
        }
      ]
    },
    {
      "cell_type": "code",
      "metadata": {
        "trusted": true,
        "id": "8Yi3HUfeKSPs",
        "outputId": "f15d5738-3f93-43c7-96d0-0ede4c6d97d4"
      },
      "source": [
        "soup.title.get_text() #imprime somente o texto dentro da tag"
      ],
      "execution_count": null,
      "outputs": [
        {
          "output_type": "execute_result",
          "data": {
            "text/plain": [
              "'Indicados e vencedores do Oscar em 2020'"
            ]
          },
          "metadata": {
            "tags": []
          },
          "execution_count": 9
        }
      ]
    },
    {
      "cell_type": "markdown",
      "metadata": {
        "id": "M-he8wk4KSPs"
      },
      "source": [
        "### 3.2) E se eu quiser extrair o título do maior hierarquia no corpo da página?"
      ]
    },
    {
      "cell_type": "code",
      "metadata": {
        "trusted": true,
        "id": "VfoNTT5FKSPt",
        "outputId": "6dd11b86-94a8-487f-b284-cf04717a4ccf"
      },
      "source": [
        "soup.html.body.h1"
      ],
      "execution_count": null,
      "outputs": [
        {
          "output_type": "execute_result",
          "data": {
            "text/plain": [
              "<h1>Oscar 2020</h1>"
            ]
          },
          "metadata": {
            "tags": []
          },
          "execution_count": 10
        }
      ]
    },
    {
      "cell_type": "code",
      "metadata": {
        "trusted": true,
        "id": "g37UvyWvKSPt",
        "outputId": "d11f684d-ed93-45ff-c4dd-e54eae1c42f7"
      },
      "source": [
        "soup.h1"
      ],
      "execution_count": null,
      "outputs": [
        {
          "output_type": "execute_result",
          "data": {
            "text/plain": [
              "<h1>Oscar 2020</h1>"
            ]
          },
          "metadata": {
            "tags": []
          },
          "execution_count": 11
        }
      ]
    },
    {
      "cell_type": "code",
      "metadata": {
        "trusted": true,
        "id": "prVHdNUqKSPt",
        "outputId": "6487d6a9-6175-447e-bdd6-3668e606b1d7"
      },
      "source": [
        "soup.h1.get_text()"
      ],
      "execution_count": null,
      "outputs": [
        {
          "output_type": "execute_result",
          "data": {
            "text/plain": [
              "'Oscar 2020'"
            ]
          },
          "metadata": {
            "tags": []
          },
          "execution_count": 12
        }
      ]
    },
    {
      "cell_type": "markdown",
      "metadata": {
        "id": "K2tqpXG6KSPu"
      },
      "source": [
        "### Questionário 1: com qual dos comandos abaixo eu NÃO coleto o texto \"Categoria: melhor filme\"?\n",
        "\n",
        "a) soup.body.div.div.h2.get_text()\n",
        "\n",
        "b) soup.div.div.h2.get_text()\n",
        "\n",
        "c) soup.div.ul.h2.get_text()\n",
        "\n",
        "d) soup.h2.get_text()"
      ]
    },
    {
      "cell_type": "markdown",
      "metadata": {
        "id": "4C5nFZ6ZKSPu"
      },
      "source": [
        "### 3.3) Coletando o texto \"A maior premiação do cinema aconteceu em Fevereiro. Os destaques deste ano foram:\""
      ]
    },
    {
      "cell_type": "code",
      "metadata": {
        "trusted": true,
        "id": "6tJunNBiKSPu",
        "outputId": "315e367e-f388-4681-8e39-6861f53c3d48"
      },
      "source": [
        "soup.p.get_text()"
      ],
      "execution_count": null,
      "outputs": [
        {
          "output_type": "execute_result",
          "data": {
            "text/plain": [
              "'A maior premiação do cinema aconteceu em Fevereiro. Os destaques deste ano foram:'"
            ]
          },
          "metadata": {
            "tags": []
          },
          "execution_count": 13
        }
      ]
    },
    {
      "cell_type": "markdown",
      "metadata": {
        "id": "5BKzTb9vKSPv"
      },
      "source": [
        "### Mas... E se eu quiser coletar o texto \"Veja abaixo os vencedores de 3 categorias.\"?"
      ]
    },
    {
      "cell_type": "markdown",
      "metadata": {
        "id": "y689MvbWKSPv"
      },
      "source": [
        "### 3.4) O método find()"
      ]
    },
    {
      "cell_type": "code",
      "metadata": {
        "trusted": true,
        "id": "yp2F0_NmKSPv",
        "outputId": "6c7d230e-177e-48d9-c8c3-aca19a5b5104"
      },
      "source": [
        "soup.find(\"p\")"
      ],
      "execution_count": null,
      "outputs": [
        {
          "output_type": "execute_result",
          "data": {
            "text/plain": [
              "<p>A maior premiação do cinema aconteceu em Fevereiro. Os destaques deste ano foram:</p>"
            ]
          },
          "metadata": {
            "tags": []
          },
          "execution_count": 14
        }
      ]
    },
    {
      "cell_type": "code",
      "metadata": {
        "trusted": true,
        "id": "9lj8T3YnKSPv",
        "outputId": "12ff5310-61a2-4c5d-83b7-9833fc6ee934"
      },
      "source": [
        "soup.find(\"p\").get_text()"
      ],
      "execution_count": null,
      "outputs": [
        {
          "output_type": "execute_result",
          "data": {
            "text/plain": [
              "'A maior premiação do cinema aconteceu em Fevereiro. Os destaques deste ano foram:'"
            ]
          },
          "metadata": {
            "tags": []
          },
          "execution_count": 15
        }
      ]
    },
    {
      "cell_type": "markdown",
      "metadata": {
        "id": "p21AvE-JKSPw"
      },
      "source": [
        "### 3.5) O método find_all()"
      ]
    },
    {
      "cell_type": "code",
      "metadata": {
        "trusted": true,
        "id": "0QGTPLiLKSPw",
        "outputId": "0d6dfd48-9a70-45a5-dd4f-07613b263048"
      },
      "source": [
        "soup.find_all(\"p\")"
      ],
      "execution_count": null,
      "outputs": [
        {
          "output_type": "execute_result",
          "data": {
            "text/plain": [
              "[<p>A maior premiação do cinema aconteceu em Fevereiro. Os destaques deste ano foram:</p>,\n",
              " <p>Veja abaixo os vencedores de 3 categorias.</p>]"
            ]
          },
          "metadata": {
            "tags": []
          },
          "execution_count": 16
        }
      ]
    },
    {
      "cell_type": "code",
      "metadata": {
        "trusted": true,
        "id": "Lrze34a_KSPw",
        "outputId": "818e3272-9e4a-45ec-9d7f-cb4dee28cba3"
      },
      "source": [
        "soup.find_all(\"p\")[1]"
      ],
      "execution_count": null,
      "outputs": [
        {
          "output_type": "execute_result",
          "data": {
            "text/plain": [
              "<p>Veja abaixo os vencedores de 3 categorias.</p>"
            ]
          },
          "metadata": {
            "tags": []
          },
          "execution_count": 17
        }
      ]
    },
    {
      "cell_type": "code",
      "metadata": {
        "trusted": true,
        "id": "WGrscjo1KSPx",
        "outputId": "2f049df5-afd0-4e82-dd31-a06c157c0c9e"
      },
      "source": [
        "soup.find_all(\"p\")[1].get_text()"
      ],
      "execution_count": null,
      "outputs": [
        {
          "output_type": "execute_result",
          "data": {
            "text/plain": [
              "'Veja abaixo os vencedores de 3 categorias.'"
            ]
          },
          "metadata": {
            "tags": []
          },
          "execution_count": 18
        }
      ]
    },
    {
      "cell_type": "code",
      "metadata": {
        "trusted": true,
        "id": "zNNr05roKSPx",
        "outputId": "4071424d-daa1-422c-de4c-61ec05f59b7c"
      },
      "source": [
        "soup.find_all(\"h2\")"
      ],
      "execution_count": null,
      "outputs": [
        {
          "output_type": "execute_result",
          "data": {
            "text/plain": [
              "[<h2>Categoria: melhor filme</h2>,\n",
              " <h2>Categoria: melhor ator</h2>,\n",
              " <h2>Categoria: melhor atriz</h2>]"
            ]
          },
          "metadata": {
            "tags": []
          },
          "execution_count": 19
        }
      ]
    },
    {
      "cell_type": "markdown",
      "metadata": {
        "id": "ROrWkgtXKSPx"
      },
      "source": [
        "### 3.6) Coletando a lista de destaques"
      ]
    },
    {
      "cell_type": "code",
      "metadata": {
        "trusted": true,
        "id": "qk64g3FoKSPx",
        "outputId": "1a3cddcf-5870-4811-a8d7-532c79cacb54"
      },
      "source": [
        "soup.ul.find_all(\"li\")"
      ],
      "execution_count": null,
      "outputs": [
        {
          "output_type": "execute_result",
          "data": {
            "text/plain": [
              "[<li>Coringa</li>,\n",
              " <li>1917</li>,\n",
              " <li>Era Uma Vez em Hollywood</li>,\n",
              " <li>O Irlandês</li>]"
            ]
          },
          "metadata": {
            "tags": []
          },
          "execution_count": 20
        }
      ]
    },
    {
      "cell_type": "code",
      "metadata": {
        "trusted": true,
        "id": "-Ylia3KSKSPy",
        "outputId": "ed8c87e7-6d5a-4123-e219-351b41836266"
      },
      "source": [
        "print(\"Lista de destaques:\")\n",
        "\n",
        "for filme in soup.ul.find_all(\"li\"):\n",
        "    print(filme.get_text())"
      ],
      "execution_count": null,
      "outputs": [
        {
          "output_type": "stream",
          "text": [
            "Lista de destaques:\n",
            "Coringa\n",
            "1917\n",
            "Era Uma Vez em Hollywood\n",
            "O Irlandês\n"
          ],
          "name": "stdout"
        }
      ]
    },
    {
      "cell_type": "markdown",
      "metadata": {
        "id": "LJ9qTdiiKSPy"
      },
      "source": [
        "### Mini-desafio 1: colete todos os filmes da categoria de melhor filme"
      ]
    },
    {
      "cell_type": "code",
      "metadata": {
        "trusted": true,
        "id": "uKQNY1XeKSPy"
      },
      "source": [
        "# Insira a sua resposta aqui"
      ],
      "execution_count": null,
      "outputs": []
    },
    {
      "cell_type": "markdown",
      "metadata": {
        "id": "TT46uWQLKSPz"
      },
      "source": [
        "### 3.7) O método find_all() pode ser equivalente ao método find()"
      ]
    },
    {
      "cell_type": "code",
      "metadata": {
        "trusted": true,
        "id": "33H4KTBIKSPz",
        "outputId": "3c52c65b-acc7-4122-ff17-1be422dff1d4"
      },
      "source": [
        "soup.find_all('p', limit = 1)"
      ],
      "execution_count": null,
      "outputs": [
        {
          "output_type": "execute_result",
          "data": {
            "text/plain": [
              "[<p>A maior premiação do cinema aconteceu em Fevereiro. Os destaques deste ano foram:</p>]"
            ]
          },
          "metadata": {
            "tags": []
          },
          "execution_count": 23
        }
      ]
    },
    {
      "cell_type": "code",
      "metadata": {
        "trusted": true,
        "id": "GqHUSOLiKSPz",
        "outputId": "213a5818-5836-46dd-eb5b-4b8e78ce0aa0"
      },
      "source": [
        "soup.find_all('p')[0]"
      ],
      "execution_count": null,
      "outputs": [
        {
          "output_type": "execute_result",
          "data": {
            "text/plain": [
              "<p>A maior premiação do cinema aconteceu em Fevereiro. Os destaques deste ano foram:</p>"
            ]
          },
          "metadata": {
            "tags": []
          },
          "execution_count": 24
        }
      ]
    },
    {
      "cell_type": "markdown",
      "metadata": {
        "id": "O2R0hYDtKSPz"
      },
      "source": [
        "### 3.8) Também posso passar uma lista de tags para o find_all()"
      ]
    },
    {
      "cell_type": "code",
      "metadata": {
        "trusted": true,
        "id": "sGNvVHZOKSP0",
        "outputId": "60505a28-0868-4666-c121-983609c778e8"
      },
      "source": [
        "soup.find_all([\"h2\", \"li\"])"
      ],
      "execution_count": null,
      "outputs": [
        {
          "output_type": "execute_result",
          "data": {
            "text/plain": [
              "[<li>Coringa</li>,\n",
              " <li>1917</li>,\n",
              " <li>Era Uma Vez em Hollywood</li>,\n",
              " <li>O Irlandês</li>,\n",
              " <h2>Categoria: melhor filme</h2>,\n",
              " <li>Ford vs Ferrari</li>,\n",
              " <li>O Irlandês</li>,\n",
              " <li>JoJo Rabbit</li>,\n",
              " <li>Coringa</li>,\n",
              " <li>Adoráveis Mulheres</li>,\n",
              " <li>História de um Casamento</li>,\n",
              " <li>1917</li>,\n",
              " <li>Era Uma Vez Em Hollywood</li>,\n",
              " <li class=\"vencedor\">Parasita <strong>[VENCEDOR]</strong></li>,\n",
              " <h2>Categoria: melhor ator</h2>,\n",
              " <li>Antonio Banderas - Dor e Glória</li>,\n",
              " <li>Leonardo DiCaprio - Era Uma Vez Em... Hollywood</li>,\n",
              " <li>Adam Driver - História de um Casamento</li>,\n",
              " <li class=\"vencedor\">Joaquin Phoenix - Coringa <strong>[VENCEDOR]</strong></li>,\n",
              " <li>Jonathan Price - Dois Papas</li>,\n",
              " <h2>Categoria: melhor atriz</h2>,\n",
              " <li>Cythia Erivo - Harriet</li>,\n",
              " <li>Scarlett Johansson - História de um Casamento</li>,\n",
              " <li>Saoirse Ronan - Adoráveis Mulheres</li>,\n",
              " <li>Charlize Theron - O Escândalo</li>,\n",
              " <li class=\"vencedor\">Renée Zellweger - Judy: Muito Além do Arco-Íris <strong>[VENCEDOR]</strong></li>]"
            ]
          },
          "metadata": {
            "tags": []
          },
          "execution_count": 25
        }
      ]
    },
    {
      "cell_type": "markdown",
      "metadata": {
        "id": "l0uF11UcKSP0"
      },
      "source": [
        "### 3.9) Posso buscar por tags com um conteúdo específico?"
      ]
    },
    {
      "cell_type": "code",
      "metadata": {
        "trusted": true,
        "id": "icn7KpQsKSP0",
        "outputId": "c6ee28c8-74ea-4c40-f766-e5fcfcdfa3f3"
      },
      "source": [
        "soup.find_all(\"li\", text=\"Coringa\")"
      ],
      "execution_count": null,
      "outputs": [
        {
          "output_type": "execute_result",
          "data": {
            "text/plain": [
              "[<li>Coringa</li>, <li>Coringa</li>]"
            ]
          },
          "metadata": {
            "tags": []
          },
          "execution_count": 26
        }
      ]
    },
    {
      "cell_type": "code",
      "metadata": {
        "trusted": true,
        "id": "ZCwFsgWPKSP1",
        "outputId": "c9ee27d9-849d-4099-dee1-bea054bc5f36"
      },
      "source": [
        "soup.find_all(\"li\", text=\"1917\")"
      ],
      "execution_count": null,
      "outputs": [
        {
          "output_type": "execute_result",
          "data": {
            "text/plain": [
              "[<li>1917</li>, <li>1917</li>]"
            ]
          },
          "metadata": {
            "tags": []
          },
          "execution_count": 27
        }
      ]
    },
    {
      "cell_type": "code",
      "metadata": {
        "trusted": true,
        "id": "NGija-2KKSP1",
        "outputId": "71e70fb2-8bab-409a-b576-1506244c3525"
      },
      "source": [
        "soup.find_all(\"li\", text=\"O Irlandês\")"
      ],
      "execution_count": null,
      "outputs": [
        {
          "output_type": "execute_result",
          "data": {
            "text/plain": [
              "[<li>O Irlandês</li>, <li>O Irlandês</li>]"
            ]
          },
          "metadata": {
            "tags": []
          },
          "execution_count": 28
        }
      ]
    },
    {
      "cell_type": "code",
      "metadata": {
        "trusted": true,
        "id": "sqqDrE_sKSP1"
      },
      "source": [
        "import re"
      ],
      "execution_count": null,
      "outputs": []
    },
    {
      "cell_type": "code",
      "metadata": {
        "trusted": true,
        "id": "JLvc-g1AKSP1",
        "outputId": "1c617f7e-dae8-41a4-db10-397d6fd32388"
      },
      "source": [
        "soup.find_all(\"h2\", text=re.compile(\"^Categoria\"))"
      ],
      "execution_count": null,
      "outputs": [
        {
          "output_type": "execute_result",
          "data": {
            "text/plain": [
              "[<h2>Categoria: melhor filme</h2>,\n",
              " <h2>Categoria: melhor ator</h2>,\n",
              " <h2>Categoria: melhor atriz</h2>]"
            ]
          },
          "metadata": {
            "tags": []
          },
          "execution_count": 30
        }
      ]
    },
    {
      "cell_type": "markdown",
      "metadata": {
        "id": "gISyAVenKSP2"
      },
      "source": [
        "### 3.10) Coletando por meio de atributos"
      ]
    },
    {
      "cell_type": "code",
      "metadata": {
        "trusted": true,
        "id": "6Rq5OLebKSP2",
        "outputId": "dc568f17-3310-4203-f6c1-06914b729a51"
      },
      "source": [
        "soup.find_all(\"ul\", {\"class\": \"destaques\"})"
      ],
      "execution_count": null,
      "outputs": [
        {
          "output_type": "execute_result",
          "data": {
            "text/plain": [
              "[<ul class=\"destaques\">\n",
              " <li>Coringa</li>\n",
              " <li>1917</li>\n",
              " <li>Era Uma Vez em Hollywood</li>\n",
              " <li>O Irlandês</li>\n",
              " </ul>]"
            ]
          },
          "metadata": {
            "tags": []
          },
          "execution_count": 31
        }
      ]
    },
    {
      "cell_type": "code",
      "metadata": {
        "trusted": true,
        "id": "S_1_aZQUKSP2",
        "outputId": "594ee8ad-1cd8-4523-8b4c-d80ed15e3a38"
      },
      "source": [
        "for item in soup.find_all(\"ul\", {\"class\": \"destaques\"}):\n",
        "    print(item.get_text())"
      ],
      "execution_count": null,
      "outputs": [
        {
          "output_type": "stream",
          "text": [
            "\n",
            "Coringa\n",
            "1917\n",
            "Era Uma Vez em Hollywood\n",
            "O Irlandês\n",
            "\n"
          ],
          "name": "stdout"
        }
      ]
    },
    {
      "cell_type": "code",
      "metadata": {
        "trusted": true,
        "id": "L4KUInu0KSP3",
        "outputId": "65376289-2633-407c-f34b-677b8cfdc8a3"
      },
      "source": [
        "soup.find_all(\"li\", {\"class\": \"vencedor\"})"
      ],
      "execution_count": null,
      "outputs": [
        {
          "output_type": "execute_result",
          "data": {
            "text/plain": [
              "[<li class=\"vencedor\">Parasita <strong>[VENCEDOR]</strong></li>,\n",
              " <li class=\"vencedor\">Joaquin Phoenix - Coringa <strong>[VENCEDOR]</strong></li>,\n",
              " <li class=\"vencedor\">Renée Zellweger - Judy: Muito Além do Arco-Íris <strong>[VENCEDOR]</strong></li>]"
            ]
          },
          "metadata": {
            "tags": []
          },
          "execution_count": 33
        }
      ]
    },
    {
      "cell_type": "code",
      "metadata": {
        "trusted": true,
        "id": "V7OQelotKSP3",
        "outputId": "5c36e9b6-7704-4a21-8801-6132fee28eb8"
      },
      "source": [
        "for item in soup.find_all(\"li\", {\"class\": \"vencedor\"}):\n",
        "    print(item.get_text())"
      ],
      "execution_count": null,
      "outputs": [
        {
          "output_type": "stream",
          "text": [
            "Parasita [VENCEDOR]\n",
            "Joaquin Phoenix - Coringa [VENCEDOR]\n",
            "Renée Zellweger - Judy: Muito Além do Arco-Íris [VENCEDOR]\n"
          ],
          "name": "stdout"
        }
      ]
    },
    {
      "cell_type": "code",
      "metadata": {
        "trusted": true,
        "id": "GQk66TY3KSP3",
        "outputId": "6fe3c9ed-65a5-429d-d166-5e3435d50a3a"
      },
      "source": [
        "for item in soup.find_all(\"li\", {\"class\": \"vencedor\"}):\n",
        "    print(item.get_text().replace(\" [VENCEDOR]\", \"\"))"
      ],
      "execution_count": null,
      "outputs": [
        {
          "output_type": "stream",
          "text": [
            "Parasita\n",
            "Joaquin Phoenix - Coringa\n",
            "Renée Zellweger - Judy: Muito Além do Arco-Íris\n"
          ],
          "name": "stdout"
        }
      ]
    },
    {
      "cell_type": "markdown",
      "metadata": {
        "id": "xjp6gKlpKSP3"
      },
      "source": [
        "### 3.11) Parents, siblings, next e previous: outra forma de percorrer o HTML\n",
        "\n",
        "* Quando as tags que precisamos pesquisar não apresentam atributos que as diferencie (como as classes, por exemplo), podemos percorrer o HTML de outras formas."
      ]
    },
    {
      "cell_type": "markdown",
      "metadata": {
        "id": "yQfGNketKSP4"
      },
      "source": [
        "#### Parents"
      ]
    },
    {
      "cell_type": "code",
      "metadata": {
        "trusted": true,
        "id": "w2tgwcuCKSP4",
        "outputId": "11d6ffc2-386d-4ed8-84b5-2f591a46bd8c"
      },
      "source": [
        "soup.find(\"li\", {\"class\": \"vencedor\"}).get_text()"
      ],
      "execution_count": null,
      "outputs": [
        {
          "output_type": "execute_result",
          "data": {
            "text/plain": [
              "'Parasita [VENCEDOR]'"
            ]
          },
          "metadata": {
            "tags": []
          },
          "execution_count": 36
        }
      ]
    },
    {
      "cell_type": "code",
      "metadata": {
        "trusted": true,
        "id": "ElvvTuUrKSP4",
        "outputId": "6d037c50-9c94-4256-8dca-9586f59d875e"
      },
      "source": [
        "soup.find(\"li\", {\"class\": \"vencedor\"}).find_parent()"
      ],
      "execution_count": null,
      "outputs": [
        {
          "output_type": "execute_result",
          "data": {
            "text/plain": [
              "<ul>\n",
              "<li>Ford vs Ferrari</li>\n",
              "<li>O Irlandês</li>\n",
              "<li>JoJo Rabbit</li>\n",
              "<li>Coringa</li>\n",
              "<li>Adoráveis Mulheres</li>\n",
              "<li>História de um Casamento</li>\n",
              "<li>1917</li>\n",
              "<li>Era Uma Vez Em Hollywood</li>\n",
              "<li class=\"vencedor\">Parasita <strong>[VENCEDOR]</strong></li>\n",
              "</ul>"
            ]
          },
          "metadata": {
            "tags": []
          },
          "execution_count": 37
        }
      ]
    },
    {
      "cell_type": "code",
      "metadata": {
        "trusted": true,
        "id": "ckw6JDylKSP5",
        "outputId": "5fcf7e01-0362-4402-ab2c-b302796e8e7b"
      },
      "source": [
        "soup.find(\"li\", {\"class\": \"vencedor\"}).find_parent('div')"
      ],
      "execution_count": null,
      "outputs": [
        {
          "output_type": "execute_result",
          "data": {
            "text/plain": [
              "<div class=\"categoria-melhor-filme\">\n",
              "<h2>Categoria: melhor filme</h2>\n",
              "<ul>\n",
              "<li>Ford vs Ferrari</li>\n",
              "<li>O Irlandês</li>\n",
              "<li>JoJo Rabbit</li>\n",
              "<li>Coringa</li>\n",
              "<li>Adoráveis Mulheres</li>\n",
              "<li>História de um Casamento</li>\n",
              "<li>1917</li>\n",
              "<li>Era Uma Vez Em Hollywood</li>\n",
              "<li class=\"vencedor\">Parasita <strong>[VENCEDOR]</strong></li>\n",
              "</ul>\n",
              "</div>"
            ]
          },
          "metadata": {
            "tags": []
          },
          "execution_count": 38
        }
      ]
    },
    {
      "cell_type": "code",
      "metadata": {
        "trusted": true,
        "id": "pe8bUmrlKSP5",
        "outputId": "665a2abe-ef52-4f34-ca0c-49ce03f0d2f2"
      },
      "source": [
        "soup.find(\"li\", {\"class\": \"vencedor\"}).find_parent('div').find('h2').get_text()"
      ],
      "execution_count": null,
      "outputs": [
        {
          "output_type": "execute_result",
          "data": {
            "text/plain": [
              "'Categoria: melhor filme'"
            ]
          },
          "metadata": {
            "tags": []
          },
          "execution_count": 39
        }
      ]
    },
    {
      "cell_type": "markdown",
      "metadata": {
        "id": "O60cyj9TKSP5"
      },
      "source": [
        "#### Siblings"
      ]
    },
    {
      "cell_type": "code",
      "metadata": {
        "trusted": true,
        "id": "VNrdRUdPKSP5",
        "outputId": "0fe6c5ac-2902-4fb1-be59-a98bd4d72bc1"
      },
      "source": [
        "soup.find('h2').get_text()"
      ],
      "execution_count": null,
      "outputs": [
        {
          "output_type": "execute_result",
          "data": {
            "text/plain": [
              "'Categoria: melhor filme'"
            ]
          },
          "metadata": {
            "tags": []
          },
          "execution_count": 40
        }
      ]
    },
    {
      "cell_type": "code",
      "metadata": {
        "trusted": true,
        "id": "cgti2IOuKSP6",
        "outputId": "659f1ae2-5ff3-4bd3-91cd-e711c9c05539"
      },
      "source": [
        "soup.find('h2').find_next_sibling()"
      ],
      "execution_count": null,
      "outputs": [
        {
          "output_type": "execute_result",
          "data": {
            "text/plain": [
              "<ul>\n",
              "<li>Ford vs Ferrari</li>\n",
              "<li>O Irlandês</li>\n",
              "<li>JoJo Rabbit</li>\n",
              "<li>Coringa</li>\n",
              "<li>Adoráveis Mulheres</li>\n",
              "<li>História de um Casamento</li>\n",
              "<li>1917</li>\n",
              "<li>Era Uma Vez Em Hollywood</li>\n",
              "<li class=\"vencedor\">Parasita <strong>[VENCEDOR]</strong></li>\n",
              "</ul>"
            ]
          },
          "metadata": {
            "tags": []
          },
          "execution_count": 41
        }
      ]
    },
    {
      "cell_type": "code",
      "metadata": {
        "trusted": true,
        "id": "GPAwUSZKKSP6",
        "outputId": "c94dcbff-6a9d-4d1d-c598-b599c9846594"
      },
      "source": [
        "soup.find('div', {'class': 'categoria-melhor-filme'}).find_next_siblings()"
      ],
      "execution_count": null,
      "outputs": [
        {
          "output_type": "execute_result",
          "data": {
            "text/plain": [
              "[<br/>,\n",
              " <div class=\"categoria-melhor-ator\">\n",
              " <h2>Categoria: melhor ator</h2>\n",
              " <ul>\n",
              " <li>Antonio Banderas - Dor e Glória</li>\n",
              " <li>Leonardo DiCaprio - Era Uma Vez Em... Hollywood</li>\n",
              " <li>Adam Driver - História de um Casamento</li>\n",
              " <li class=\"vencedor\">Joaquin Phoenix - Coringa <strong>[VENCEDOR]</strong></li>\n",
              " <li>Jonathan Price - Dois Papas</li>\n",
              " </ul>\n",
              " </div>,\n",
              " <br/>,\n",
              " <div class=\"categoria-melhor-atriz\">\n",
              " <h2>Categoria: melhor atriz</h2>\n",
              " <ul>\n",
              " <li>Cythia Erivo - Harriet</li>\n",
              " <li>Scarlett Johansson - História de um Casamento</li>\n",
              " <li>Saoirse Ronan - Adoráveis Mulheres</li>\n",
              " <li>Charlize Theron - O Escândalo</li>\n",
              " <li class=\"vencedor\">Renée Zellweger - Judy: Muito Além do Arco-Íris <strong>[VENCEDOR]</strong></li>\n",
              " </ul>\n",
              " </div>]"
            ]
          },
          "metadata": {
            "tags": []
          },
          "execution_count": 42
        }
      ]
    },
    {
      "cell_type": "code",
      "metadata": {
        "trusted": true,
        "id": "WEy8ib40KSP6",
        "outputId": "307e7336-7d7b-40c5-8656-0f1bb18cff95"
      },
      "source": [
        "soup.find('li', {'class': 'vencedor'}).find_previous_sibling().get_text()"
      ],
      "execution_count": null,
      "outputs": [
        {
          "output_type": "execute_result",
          "data": {
            "text/plain": [
              "'Era Uma Vez Em Hollywood'"
            ]
          },
          "metadata": {
            "tags": []
          },
          "execution_count": 43
        }
      ]
    },
    {
      "cell_type": "code",
      "metadata": {
        "trusted": true,
        "id": "Vp66hSJHKSP6",
        "outputId": "3e0d8876-1758-46dc-ec54-62eb51747ccd"
      },
      "source": [
        "soup.find('div', {'class': 'categoria-melhor-atriz'}).find_previous_siblings()"
      ],
      "execution_count": null,
      "outputs": [
        {
          "output_type": "execute_result",
          "data": {
            "text/plain": [
              "[<br/>,\n",
              " <div class=\"categoria-melhor-ator\">\n",
              " <h2>Categoria: melhor ator</h2>\n",
              " <ul>\n",
              " <li>Antonio Banderas - Dor e Glória</li>\n",
              " <li>Leonardo DiCaprio - Era Uma Vez Em... Hollywood</li>\n",
              " <li>Adam Driver - História de um Casamento</li>\n",
              " <li class=\"vencedor\">Joaquin Phoenix - Coringa <strong>[VENCEDOR]</strong></li>\n",
              " <li>Jonathan Price - Dois Papas</li>\n",
              " </ul>\n",
              " </div>,\n",
              " <br/>,\n",
              " <div class=\"categoria-melhor-filme\">\n",
              " <h2>Categoria: melhor filme</h2>\n",
              " <ul>\n",
              " <li>Ford vs Ferrari</li>\n",
              " <li>O Irlandês</li>\n",
              " <li>JoJo Rabbit</li>\n",
              " <li>Coringa</li>\n",
              " <li>Adoráveis Mulheres</li>\n",
              " <li>História de um Casamento</li>\n",
              " <li>1917</li>\n",
              " <li>Era Uma Vez Em Hollywood</li>\n",
              " <li class=\"vencedor\">Parasita <strong>[VENCEDOR]</strong></li>\n",
              " </ul>\n",
              " </div>]"
            ]
          },
          "metadata": {
            "tags": []
          },
          "execution_count": 44
        }
      ]
    },
    {
      "cell_type": "markdown",
      "metadata": {
        "id": "0I-VwGutKSP7"
      },
      "source": [
        "#### Next e Previous"
      ]
    },
    {
      "cell_type": "code",
      "metadata": {
        "trusted": true,
        "id": "dW9psXppKSP7",
        "outputId": "bf7b89d2-54ff-4959-c451-6c87b2995e6a"
      },
      "source": [
        "soup.find('div', {'class': 'categoria-melhor-ator'}).find('li', {'class': 'vencedor'}).get_text()"
      ],
      "execution_count": null,
      "outputs": [
        {
          "output_type": "execute_result",
          "data": {
            "text/plain": [
              "'Joaquin Phoenix - Coringa [VENCEDOR]'"
            ]
          },
          "metadata": {
            "tags": []
          },
          "execution_count": 45
        }
      ]
    },
    {
      "cell_type": "code",
      "metadata": {
        "trusted": true,
        "id": "yFzE6GKDKSP7",
        "outputId": "686fdac0-4b5a-4ba6-f37d-7c69e5497554"
      },
      "source": [
        "soup.find('div', {'class': 'categoria-melhor-ator'}).find('li', {'class': 'vencedor'}).find_next('li').get_text()"
      ],
      "execution_count": null,
      "outputs": [
        {
          "output_type": "execute_result",
          "data": {
            "text/plain": [
              "'Jonathan Price - Dois Papas'"
            ]
          },
          "metadata": {
            "tags": []
          },
          "execution_count": 46
        }
      ]
    },
    {
      "cell_type": "code",
      "metadata": {
        "trusted": true,
        "id": "yEmvNl5KKSP8",
        "outputId": "9dba9fc2-4468-42b8-d4ce-bf9c627459b6"
      },
      "source": [
        "soup.find('div', {'class': 'categoria-melhor-ator'}).find('li', {'class': 'vencedor'}).find_previous('li').get_text()"
      ],
      "execution_count": null,
      "outputs": [
        {
          "output_type": "execute_result",
          "data": {
            "text/plain": [
              "'Adam Driver - História de um Casamento'"
            ]
          },
          "metadata": {
            "tags": []
          },
          "execution_count": 47
        }
      ]
    },
    {
      "cell_type": "code",
      "metadata": {
        "trusted": true,
        "id": "XOXl4960KSP8",
        "outputId": "6944100b-544d-4780-9912-b5f77d795fea"
      },
      "source": [
        "soup.find('div', {'class': 'categoria-melhor-ator'}).find('li', {'class': 'vencedor'}).find_all_next('li')"
      ],
      "execution_count": null,
      "outputs": [
        {
          "output_type": "execute_result",
          "data": {
            "text/plain": [
              "[<li>Jonathan Price - Dois Papas</li>,\n",
              " <li>Cythia Erivo - Harriet</li>,\n",
              " <li>Scarlett Johansson - História de um Casamento</li>,\n",
              " <li>Saoirse Ronan - Adoráveis Mulheres</li>,\n",
              " <li>Charlize Theron - O Escândalo</li>,\n",
              " <li class=\"vencedor\">Renée Zellweger - Judy: Muito Além do Arco-Íris <strong>[VENCEDOR]</strong></li>]"
            ]
          },
          "metadata": {
            "tags": []
          },
          "execution_count": 48
        }
      ]
    },
    {
      "cell_type": "code",
      "metadata": {
        "trusted": true,
        "id": "xO8AM2I-KSP8",
        "outputId": "01ba940f-4965-4226-e034-eb27fa92b429"
      },
      "source": [
        "soup.find('div', {'class': 'categoria-melhor-ator'}).find('li', {'class': 'vencedor'}).find_all_previous('li')"
      ],
      "execution_count": null,
      "outputs": [
        {
          "output_type": "execute_result",
          "data": {
            "text/plain": [
              "[<li>Adam Driver - História de um Casamento</li>,\n",
              " <li>Leonardo DiCaprio - Era Uma Vez Em... Hollywood</li>,\n",
              " <li>Antonio Banderas - Dor e Glória</li>,\n",
              " <li class=\"vencedor\">Parasita <strong>[VENCEDOR]</strong></li>,\n",
              " <li>Era Uma Vez Em Hollywood</li>,\n",
              " <li>1917</li>,\n",
              " <li>História de um Casamento</li>,\n",
              " <li>Adoráveis Mulheres</li>,\n",
              " <li>Coringa</li>,\n",
              " <li>JoJo Rabbit</li>,\n",
              " <li>O Irlandês</li>,\n",
              " <li>Ford vs Ferrari</li>,\n",
              " <li>O Irlandês</li>,\n",
              " <li>Era Uma Vez em Hollywood</li>,\n",
              " <li>1917</li>,\n",
              " <li>Coringa</li>]"
            ]
          },
          "metadata": {
            "tags": []
          },
          "execution_count": 49
        }
      ]
    },
    {
      "cell_type": "markdown",
      "metadata": {
        "id": "-MqSCKfLKSP9"
      },
      "source": [
        "### Mini-desafio 2: colete todos os filmes que não tenham vencido suas categorias"
      ]
    },
    {
      "cell_type": "code",
      "metadata": {
        "trusted": true,
        "id": "IMRkcHD2KSP9"
      },
      "source": [
        "# Insira a sua resposta aqui"
      ],
      "execution_count": null,
      "outputs": []
    },
    {
      "cell_type": "markdown",
      "metadata": {
        "id": "N5AjleYQKSP9"
      },
      "source": [
        "## 4) Trabalhando com dicionários e DataFrames"
      ]
    },
    {
      "cell_type": "code",
      "metadata": {
        "trusted": true,
        "id": "A3lmGOBfKSP9"
      },
      "source": [
        "import pandas as pd"
      ],
      "execution_count": null,
      "outputs": []
    },
    {
      "cell_type": "code",
      "metadata": {
        "trusted": true,
        "id": "HMCRx5YcKSP9",
        "outputId": "112ae5b6-8675-43b3-8060-3269becb7969"
      },
      "source": [
        "soup.find_all(\"h2\", text=re.compile(\"^Categoria\"))"
      ],
      "execution_count": null,
      "outputs": [
        {
          "output_type": "execute_result",
          "data": {
            "text/plain": [
              "[<h2>Categoria: melhor filme</h2>,\n",
              " <h2>Categoria: melhor ator</h2>,\n",
              " <h2>Categoria: melhor atriz</h2>]"
            ]
          },
          "metadata": {
            "tags": []
          },
          "execution_count": 52
        }
      ]
    },
    {
      "cell_type": "code",
      "metadata": {
        "trusted": true,
        "id": "6WE0HwVYKSP-"
      },
      "source": [
        "categorias = soup.find_all(\"h2\", text=re.compile(\"^Categoria\"))"
      ],
      "execution_count": null,
      "outputs": []
    },
    {
      "cell_type": "code",
      "metadata": {
        "trusted": true,
        "id": "EfdHguo0KSP-",
        "outputId": "3123556c-a1c8-489e-e2a3-716953c48520"
      },
      "source": [
        "soup.find_all(\"li\", {\"class\": \"vencedor\"})"
      ],
      "execution_count": null,
      "outputs": [
        {
          "output_type": "execute_result",
          "data": {
            "text/plain": [
              "[<li class=\"vencedor\">Parasita <strong>[VENCEDOR]</strong></li>,\n",
              " <li class=\"vencedor\">Joaquin Phoenix - Coringa <strong>[VENCEDOR]</strong></li>,\n",
              " <li class=\"vencedor\">Renée Zellweger - Judy: Muito Além do Arco-Íris <strong>[VENCEDOR]</strong></li>]"
            ]
          },
          "metadata": {
            "tags": []
          },
          "execution_count": 54
        }
      ]
    },
    {
      "cell_type": "code",
      "metadata": {
        "trusted": true,
        "id": "Cia68Z_tKSP-"
      },
      "source": [
        "vencedores = soup.find_all(\"li\", {\"class\": \"vencedor\"})"
      ],
      "execution_count": null,
      "outputs": []
    },
    {
      "cell_type": "code",
      "metadata": {
        "trusted": true,
        "id": "GAVYi8rJKSP-"
      },
      "source": [
        "vencedores_categorias = {}"
      ],
      "execution_count": null,
      "outputs": []
    },
    {
      "cell_type": "code",
      "metadata": {
        "trusted": true,
        "id": "E6_NB_5RKSP_"
      },
      "source": [
        "for cat, ven in zip(categorias, vencedores):\n",
        "    categoria = cat.get_text().replace(\"Categoria: \", \"\")\n",
        "    vencedor = ven.get_text().replace(\" [VENCEDOR]\", \"\")\n",
        "    \n",
        "    vencedores_categorias.update({categoria: [vencedor]})"
      ],
      "execution_count": null,
      "outputs": []
    },
    {
      "cell_type": "code",
      "metadata": {
        "trusted": true,
        "id": "c_kwosnRKSP_",
        "outputId": "c68883f2-040e-4b95-9c4b-c10ac8426052"
      },
      "source": [
        "vencedores_categorias"
      ],
      "execution_count": null,
      "outputs": [
        {
          "output_type": "execute_result",
          "data": {
            "text/plain": [
              "{'melhor filme': ['Parasita'],\n",
              " 'melhor ator': ['Joaquin Phoenix - Coringa'],\n",
              " 'melhor atriz': ['Renée Zellweger - Judy: Muito Além do Arco-Íris']}"
            ]
          },
          "metadata": {
            "tags": []
          },
          "execution_count": 58
        }
      ]
    },
    {
      "cell_type": "code",
      "metadata": {
        "trusted": true,
        "id": "7Z4JLAJmKSP_"
      },
      "source": [
        "vencedores_categorias_df = pd.DataFrame.from_dict(vencedores_categorias, orient=\"index\", columns=[\"Vencedores\"])"
      ],
      "execution_count": null,
      "outputs": []
    },
    {
      "cell_type": "code",
      "metadata": {
        "trusted": true,
        "id": "2FN36N7YKSP_",
        "outputId": "fcf7de72-62e2-4591-cf3b-30bb91abf923"
      },
      "source": [
        "vencedores_categorias_df"
      ],
      "execution_count": null,
      "outputs": [
        {
          "output_type": "execute_result",
          "data": {
            "text/plain": [
              "                                                   Vencedores\n",
              "melhor filme                                         Parasita\n",
              "melhor ator                         Joaquin Phoenix - Coringa\n",
              "melhor atriz  Renée Zellweger - Judy: Muito Além do Arco-Íris"
            ],
            "text/html": [
              "<div>\n",
              "<style scoped>\n",
              "    .dataframe tbody tr th:only-of-type {\n",
              "        vertical-align: middle;\n",
              "    }\n",
              "\n",
              "    .dataframe tbody tr th {\n",
              "        vertical-align: top;\n",
              "    }\n",
              "\n",
              "    .dataframe thead th {\n",
              "        text-align: right;\n",
              "    }\n",
              "</style>\n",
              "<table border=\"1\" class=\"dataframe\">\n",
              "  <thead>\n",
              "    <tr style=\"text-align: right;\">\n",
              "      <th></th>\n",
              "      <th>Vencedores</th>\n",
              "    </tr>\n",
              "  </thead>\n",
              "  <tbody>\n",
              "    <tr>\n",
              "      <th>melhor filme</th>\n",
              "      <td>Parasita</td>\n",
              "    </tr>\n",
              "    <tr>\n",
              "      <th>melhor ator</th>\n",
              "      <td>Joaquin Phoenix - Coringa</td>\n",
              "    </tr>\n",
              "    <tr>\n",
              "      <th>melhor atriz</th>\n",
              "      <td>Renée Zellweger - Judy: Muito Além do Arco-Íris</td>\n",
              "    </tr>\n",
              "  </tbody>\n",
              "</table>\n",
              "</div>"
            ]
          },
          "metadata": {
            "tags": []
          },
          "execution_count": 60
        }
      ]
    },
    {
      "cell_type": "markdown",
      "metadata": {
        "id": "zYIDj3IpKSQA"
      },
      "source": [
        "## 5) Coletando dados da Web"
      ]
    },
    {
      "cell_type": "code",
      "metadata": {
        "trusted": true,
        "id": "t90T3FvsKSQA"
      },
      "source": [
        "from urllib.request import urlopen"
      ],
      "execution_count": null,
      "outputs": []
    },
    {
      "cell_type": "code",
      "metadata": {
        "trusted": true,
        "id": "9KNXVX6nKSQA"
      },
      "source": [
        "url = 'https://ocean-web-scraping.herokuapp.com/'"
      ],
      "execution_count": null,
      "outputs": []
    },
    {
      "cell_type": "code",
      "metadata": {
        "trusted": true,
        "id": "4aTnag3zKSQA"
      },
      "source": [
        "response = urlopen(url)"
      ],
      "execution_count": null,
      "outputs": []
    },
    {
      "cell_type": "code",
      "metadata": {
        "trusted": true,
        "id": "dfLQCzuFKSQA"
      },
      "source": [
        "html_ocean_ws = response.read()"
      ],
      "execution_count": null,
      "outputs": []
    },
    {
      "cell_type": "code",
      "metadata": {
        "trusted": true,
        "id": "YxtnEAnzKSQB",
        "outputId": "0079a044-e4b8-484e-da8d-58bd5e7960e0"
      },
      "source": [
        "html_ocean_ws"
      ],
      "execution_count": null,
      "outputs": [
        {
          "output_type": "execute_result",
          "data": {
            "text/plain": [
              "b'<!DOCTYPE html>\\n<html lang=\"pt-br\">\\n\\t<head>\\n\\t\\t<meta charset=\"UTF-8\">\\n\\t\\t<meta name=\"viewport\" content=\"width=device-width\">\\n\\n\\t\\t<title>Oceano de Alugu\\xc3\\xa9is</title>\\n\\t\\t\\n\\t\\t<link rel=\"stylesheet\" href=\"reset.css\">\\n\\t\\t<link rel=\"stylesheet\" href=\"style.css\">\\n\\t\\t<link href=\"https://fonts.googleapis.com/css?family=Montserrat&display=swap\" rel=\"stylesheet\">\\n\\t</head>\\n\\n\\t<body>\\n\\t\\t<header>\\n\\t\\t\\t<div>\\n\\t\\t\\t\\t<img src=\"imagens/oceano-logo.png\">\\n\\t\\t\\t\\t<h1>Oceano de Alugu\\xc3\\xa9is</h1>\\n\\t\\t\\t\\t<nav>\\n\\t\\t\\t\\t\\t<ul>\\n\\t\\t\\t\\t\\t\\t<li><a href=\"results&page=1.html\">Resultados</a></li>\\n\\t\\t\\t\\t\\t\\t<li><a href=\"corretoras.html\">Corretoras</a></li>\\n\\t\\t\\t\\t\\t\\t<li><a href=\"sobre.html\">Sobre</a></li>\\n\\t\\t\\t\\t\\t</ul>\\n\\t\\t\\t\\t</nav>\\n\\t\\t\\t</div>\\n\\t\\t</header>\\n\\n\\t\\t<main>\\n\\t\\t\\t<div class=\"ad-card-list\">\\n\\t\\t\\t\\t<p>21 resultados obtidos - P\\xc3\\xa1gina 1</p>\\n\\n\\t\\t\\t\\t<div class=\"ad-card\">\\n\\t\\t\\t\\t\\t<img src=\"imagens/apto-01.jpg\" class=\"apto-img\">\\n\\t\\t\\t\\t\\t\\n\\t\\t\\t\\t\\t<div class=\"ad-card-info\">\\n\\t\\t\\t\\t\\t\\t<h2>Lindo apartamento para alugar</h2>\\n\\n\\t\\t\\t\\t\\t\\t<ul class=\"features\">\\n\\t\\t\\t\\t\\t\\t\\t<li><img src=\"imagens/area.png\"> 100 m\\xc2\\xb2</li>\\n\\t\\t\\t\\t\\t\\t\\t<li><img src=\"imagens/bedrooms.png\"> 3 quarto(s)</li>\\n\\t\\t\\t\\t\\t\\t\\t<li><img src=\"imagens/toilet.png\"> 2 banheiro(s)</li>\\n\\t\\t\\t\\t\\t\\t\\t<li><img src=\"imagens/parking.png\"> 2 vaga(s)</li>\\n\\t\\t\\t\\t\\t\\t</ul>\\n\\n\\t\\t\\t\\t\\t\\t<ul class=\"resources\">\\n\\t\\t\\t\\t\\t\\t\\t<li>Mobiliado</li>\\n\\t\\t\\t\\t\\t\\t\\t<li>Portaria 24h</li>\\n\\t\\t\\t\\t\\t\\t\\t<li>Elevador</li>\\n\\t\\t\\t\\t\\t\\t\\t<li>Piscina</li>\\n\\t\\t\\t\\t\\t\\t\\t<li>Churrasqueira</li>\\n\\t\\t\\t\\t\\t\\t\\t<li>Sal\\xc3\\xa3o de Festas</li>\\n\\t\\t\\t\\t\\t\\t\\t<li>Academia</li>\\n\\t\\t\\t\\t\\t\\t\\t<li>Playground</li>\\n\\t\\t\\t\\t\\t\\t\\t<li>Quadra poliesportiva</li>\\n\\t\\t\\t\\t\\t\\t\\t<li>Sal\\xc3\\xa3o de jogos</li>\\n\\t\\t\\t\\t\\t\\t\\t<li>Aceita animais</li>\\n\\t\\t\\t\\t\\t\\t</ul>\\n\\n\\t\\t\\t\\t\\t\\t<p>Localiza\\xc3\\xa7\\xc3\\xa3o: Oceano Pac\\xc3\\xadfico</p>\\n\\t\\t\\t\\t\\t</div>\\n\\n\\t\\t\\t\\t\\t<div class=\"ad-card-price\">\\n\\t\\t\\t\\t\\t\\t<p>Aluguel: R$ 4.000,00</p>\\n\\t\\t\\t\\t\\t\\t<p>Condom\\xc3\\xadnio: 500,00</p>\\n\\t\\t\\t\\t\\t\\t<p>IPTU: R$ 100,00</p>\\n\\t\\t\\t\\t\\t\\t<p>Corretora: Tubar\\xc3\\xa3o</p>\\n\\t\\t\\t\\t\\t</div>\\n\\t\\t\\t\\t</div>\\n\\n\\t\\t\\t\\t<div class=\"ad-card\">\\n\\t\\t\\t\\t\\t<img src=\"imagens/apto-02.jpg\" class=\"apto-img\">\\n\\t\\t\\t\\t\\t\\n\\t\\t\\t\\t\\t<div class=\"ad-card-info\">\\n\\t\\t\\t\\t\\t\\t<h2>\\xc3\\x93timo lugar para morar</h2>\\n\\n\\t\\t\\t\\t\\t\\t<ul class=\"features\">\\n\\t\\t\\t\\t\\t\\t\\t<li><img src=\"imagens/area.png\"> 60 m\\xc2\\xb2</li>\\n\\t\\t\\t\\t\\t\\t\\t<li><img src=\"imagens/bedrooms.png\"> 2 quarto(s)</li>\\n\\t\\t\\t\\t\\t\\t\\t<li><img src=\"imagens/toilet.png\"> 2 banheiro(s)</li>\\n\\t\\t\\t\\t\\t\\t\\t<li><img src=\"imagens/parking.png\"> 1 vaga(s)</li>\\n\\t\\t\\t\\t\\t\\t</ul>\\n\\n\\t\\t\\t\\t\\t\\t<ul class=\"resources\">\\n\\t\\t\\t\\t\\t\\t\\t<li>Mobiliado</li>\\n\\t\\t\\t\\t\\t\\t\\t<li>Portaria 24h</li>\\n\\t\\t\\t\\t\\t\\t\\t<li>Sal\\xc3\\xa3o de Festas</li>\\n\\t\\t\\t\\t\\t\\t\\t<li>Quadra poliesportiva</li>\\n\\t\\t\\t\\t\\t\\t</ul>\\n\\n\\t\\t\\t\\t\\t\\t<p>Localiza\\xc3\\xa7\\xc3\\xa3o: Oceano \\xc3\\x8dndico</p>\\n\\t\\t\\t\\t\\t</div>\\n\\n\\t\\t\\t\\t\\t<div class=\"ad-card-price\">\\n\\t\\t\\t\\t\\t\\t<p>Aluguel: R$ 2.000,00</p>\\n\\t\\t\\t\\t\\t\\t<p>Condom\\xc3\\xadnio: 200,00</p>\\n\\t\\t\\t\\t\\t\\t<p>IPTU: R$ 50,00</p>\\n\\t\\t\\t\\t\\t\\t<p>Corretora: Carangueijo</p>\\n\\t\\t\\t\\t\\t</div>\\n\\t\\t\\t\\t</div>\\n\\n\\t\\t\\t\\t<div class=\"ad-card\">\\n\\t\\t\\t\\t\\t<img src=\"imagens/apto-03.jpg\" class=\"apto-img\">\\n\\t\\t\\t\\t\\t\\n\\t\\t\\t\\t\\t<div class=\"ad-card-info\">\\n\\t\\t\\t\\t\\t\\t<h2>Bel\\xc3\\xadssimo apartamento mobiliado</h2>\\n\\n\\t\\t\\t\\t\\t\\t<ul class=\"features\">\\n\\t\\t\\t\\t\\t\\t\\t<li><img src=\"imagens/area.png\"> 50 m\\xc2\\xb2</li>\\n\\t\\t\\t\\t\\t\\t\\t<li><img src=\"imagens/bedrooms.png\"> 1 quarto(s)</li>\\n\\t\\t\\t\\t\\t\\t\\t<li><img src=\"imagens/toilet.png\"> 1 banheiro(s)</li>\\n\\t\\t\\t\\t\\t\\t\\t<li><img src=\"imagens/parking.png\"> 1 vaga(s)</li>\\n\\t\\t\\t\\t\\t\\t</ul>\\n\\n\\t\\t\\t\\t\\t\\t<ul class=\"resources\">\\n\\t\\t\\t\\t\\t\\t\\t<li>Mobiliado</li>\\n\\t\\t\\t\\t\\t\\t</ul>\\n\\n\\t\\t\\t\\t\\t\\t<p>Localiza\\xc3\\xa7\\xc3\\xa3o: Mar de Java</p>\\n\\t\\t\\t\\t\\t</div>\\n\\n\\t\\t\\t\\t\\t<div class=\"ad-card-price\">\\n\\t\\t\\t\\t\\t\\t<p>Aluguel: R$ 1.300,00</p>\\n\\t\\t\\t\\t\\t\\t<p>Condom\\xc3\\xadnio: 200,00</p>\\n\\t\\t\\t\\t\\t\\t<p>IPTU: R$ 50,00</p>\\n\\t\\t\\t\\t\\t\\t<p>Corretora: Baleia Azul</p>\\n\\t\\t\\t\\t\\t</div>\\n\\t\\t\\t\\t</div>\\n\\n\\t\\t\\t\\t<div class=\"ad-card\">\\n\\t\\t\\t\\t\\t<img src=\"imagens/apto-04.jpg\" class=\"apto-img\">\\n\\t\\t\\t\\t\\t\\n\\t\\t\\t\\t\\t<div class=\"ad-card-info\">\\n\\t\\t\\t\\t\\t\\t<h2>Um cantinho todo seu</h2>\\n\\n\\t\\t\\t\\t\\t\\t<ul class=\"features\">\\n\\t\\t\\t\\t\\t\\t\\t<li><img src=\"imagens/area.png\"> 60 m\\xc2\\xb2</li>\\n\\t\\t\\t\\t\\t\\t\\t<li><img src=\"imagens/bedrooms.png\"> 2 quarto(s)</li>\\n\\t\\t\\t\\t\\t\\t\\t<li><img src=\"imagens/toilet.png\"> 2 banheiro(s)</li>\\n\\t\\t\\t\\t\\t\\t\\t<li><img src=\"imagens/parking.png\"> 1 vaga(s)</li>\\n\\t\\t\\t\\t\\t\\t</ul>\\n\\n\\t\\t\\t\\t\\t\\t<ul class=\"resources\">\\n\\t\\t\\t\\t\\t\\t\\t<li>Mobiliado</li>\\n\\t\\t\\t\\t\\t\\t\\t<li>Portaria 24h</li>\\n\\t\\t\\t\\t\\t\\t</ul>\\n\\n\\t\\t\\t\\t\\t\\t<p>Localiza\\xc3\\xa7\\xc3\\xa3o: Oceano \\xc3\\x8dndico</p>\\n\\t\\t\\t\\t\\t</div>\\n\\n\\t\\t\\t\\t\\t<div class=\"ad-card-price\">\\n\\t\\t\\t\\t\\t\\t<p>Aluguel: R$ 1.800,00</p>\\n\\t\\t\\t\\t\\t\\t<p>Condom\\xc3\\xadnio: 100,00</p>\\n\\t\\t\\t\\t\\t\\t<p>IPTU: R$ 20,00</p>\\n\\t\\t\\t\\t\\t\\t<p>Corretora: Baleia Azul</p>\\n\\t\\t\\t\\t\\t</div>\\n\\t\\t\\t\\t</div>\\n\\n\\t\\t\\t\\t<div class=\"ad-card\">\\n\\t\\t\\t\\t\\t<img src=\"imagens/apto-05.jpg\" class=\"apto-img\">\\n\\t\\t\\t\\t\\t\\n\\t\\t\\t\\t\\t<div class=\"ad-card-info\">\\n\\t\\t\\t\\t\\t\\t<h2>Alugue j\\xc3\\xa1! \\xc3\\x93tima oportunidade</h2>\\n\\n\\t\\t\\t\\t\\t\\t<ul class=\"features\">\\n\\t\\t\\t\\t\\t\\t\\t<li><img src=\"imagens/area.png\"> 120 m\\xc2\\xb2</li>\\n\\t\\t\\t\\t\\t\\t\\t<li><img src=\"imagens/bedrooms.png\"> 4 quarto(s)</li>\\n\\t\\t\\t\\t\\t\\t\\t<li><img src=\"imagens/toilet.png\"> 3 banheiro(s)</li>\\n\\t\\t\\t\\t\\t\\t\\t<li><img src=\"imagens/parking.png\"> 2 vaga(s)</li>\\n\\t\\t\\t\\t\\t\\t</ul>\\n\\n\\t\\t\\t\\t\\t\\t<ul class=\"resources\">\\n\\t\\t\\t\\t\\t\\t\\t<li>Mobiliado</li>\\n\\t\\t\\t\\t\\t\\t\\t<li>Portaria 24h</li>\\n\\t\\t\\t\\t\\t\\t\\t<li>Elevador</li>\\n\\t\\t\\t\\t\\t\\t\\t<li>Piscina</li>\\n\\t\\t\\t\\t\\t\\t\\t<li>Churrasqueira</li>\\n\\t\\t\\t\\t\\t\\t\\t<li>Sal\\xc3\\xa3o de Festas</li>\\n\\t\\t\\t\\t\\t\\t\\t<li>Academia</li>\\n\\t\\t\\t\\t\\t\\t\\t<li>Playground</li>\\n\\t\\t\\t\\t\\t\\t\\t<li>Quadra poliesportiva</li>\\n\\t\\t\\t\\t\\t\\t\\t<li>Sal\\xc3\\xa3o de jogos</li>\\n\\t\\t\\t\\t\\t\\t\\t<li>Aceita animais</li>\\n\\t\\t\\t\\t\\t\\t</ul>\\n\\n\\t\\t\\t\\t\\t\\t<p>Localiza\\xc3\\xa7\\xc3\\xa3o: Oceano Pac\\xc3\\xadfico</p>\\n\\t\\t\\t\\t\\t</div>\\n\\n\\t\\t\\t\\t\\t<div class=\"ad-card-price\">\\n\\t\\t\\t\\t\\t\\t<p>Aluguel: R$ 3.800,00</p>\\n\\t\\t\\t\\t\\t\\t<p>Condom\\xc3\\xadnio: 500,00</p>\\n\\t\\t\\t\\t\\t\\t<p>IPTU: R$ 200,00</p>\\n\\t\\t\\t\\t\\t\\t<p>Corretora: Tubar\\xc3\\xa3o</p>\\n\\t\\t\\t\\t\\t</div>\\n\\t\\t\\t\\t</div>\\n\\t\\t\\t</div>\\n\\n\\t\\t\\t<div class=\"pagination\">\\n  \\t\\t\\t\\t<a class=\"inactive\" href=\"#\">&laquo;</a>\\n  \\t\\t\\t\\t<a class=\"active\" href=\"#\">1</a>\\n  \\t\\t\\t\\t<a href=\"results&page=2.html\">2</a>\\n  \\t\\t\\t\\t<a href=\"results&page=3.html\">3</a>\\n\\t\\t\\t\\t<a href=\"results&page=2.html\">&raquo;</a>\\n\\t\\t\\t</div>\\n\\t\\t</main>\\n\\n\\t\\t<footer>\\n\\t\\t\\t<img src=\"imagens/oceano-logo-cinza.png\">\\n\\t\\t\\t<p>Site criado para o curso de Web Scraping do Ocean</p>\\n\\t\\t</footer>\\n\\t</body>\\n</html>'"
            ]
          },
          "metadata": {
            "tags": []
          },
          "execution_count": 65
        }
      ]
    },
    {
      "cell_type": "code",
      "metadata": {
        "trusted": true,
        "id": "z4j_vxtjKSQB"
      },
      "source": [
        "soup_ocean_ws = BeautifulSoup(html_ocean_ws, 'html.parser')"
      ],
      "execution_count": null,
      "outputs": []
    },
    {
      "cell_type": "code",
      "metadata": {
        "trusted": true,
        "id": "QTjGhsHfKSQB",
        "outputId": "0329a6f9-f877-486c-e418-98632b37e52b"
      },
      "source": [
        "soup_ocean_ws"
      ],
      "execution_count": null,
      "outputs": [
        {
          "output_type": "execute_result",
          "data": {
            "text/plain": [
              "<!DOCTYPE html>\n",
              "\n",
              "<html lang=\"pt-br\">\n",
              "<head>\n",
              "<meta charset=\"utf-8\"/>\n",
              "<meta content=\"width=device-width\" name=\"viewport\"/>\n",
              "<title>Oceano de Aluguéis</title>\n",
              "<link href=\"reset.css\" rel=\"stylesheet\"/>\n",
              "<link href=\"style.css\" rel=\"stylesheet\"/>\n",
              "<link href=\"https://fonts.googleapis.com/css?family=Montserrat&amp;display=swap\" rel=\"stylesheet\"/>\n",
              "</head>\n",
              "<body>\n",
              "<header>\n",
              "<div>\n",
              "<img src=\"imagens/oceano-logo.png\"/>\n",
              "<h1>Oceano de Aluguéis</h1>\n",
              "<nav>\n",
              "<ul>\n",
              "<li><a href=\"results&amp;page=1.html\">Resultados</a></li>\n",
              "<li><a href=\"corretoras.html\">Corretoras</a></li>\n",
              "<li><a href=\"sobre.html\">Sobre</a></li>\n",
              "</ul>\n",
              "</nav>\n",
              "</div>\n",
              "</header>\n",
              "<main>\n",
              "<div class=\"ad-card-list\">\n",
              "<p>21 resultados obtidos - Página 1</p>\n",
              "<div class=\"ad-card\">\n",
              "<img class=\"apto-img\" src=\"imagens/apto-01.jpg\"/>\n",
              "<div class=\"ad-card-info\">\n",
              "<h2>Lindo apartamento para alugar</h2>\n",
              "<ul class=\"features\">\n",
              "<li><img src=\"imagens/area.png\"/> 100 m²</li>\n",
              "<li><img src=\"imagens/bedrooms.png\"/> 3 quarto(s)</li>\n",
              "<li><img src=\"imagens/toilet.png\"/> 2 banheiro(s)</li>\n",
              "<li><img src=\"imagens/parking.png\"/> 2 vaga(s)</li>\n",
              "</ul>\n",
              "<ul class=\"resources\">\n",
              "<li>Mobiliado</li>\n",
              "<li>Portaria 24h</li>\n",
              "<li>Elevador</li>\n",
              "<li>Piscina</li>\n",
              "<li>Churrasqueira</li>\n",
              "<li>Salão de Festas</li>\n",
              "<li>Academia</li>\n",
              "<li>Playground</li>\n",
              "<li>Quadra poliesportiva</li>\n",
              "<li>Salão de jogos</li>\n",
              "<li>Aceita animais</li>\n",
              "</ul>\n",
              "<p>Localização: Oceano Pacífico</p>\n",
              "</div>\n",
              "<div class=\"ad-card-price\">\n",
              "<p>Aluguel: R$ 4.000,00</p>\n",
              "<p>Condomínio: 500,00</p>\n",
              "<p>IPTU: R$ 100,00</p>\n",
              "<p>Corretora: Tubarão</p>\n",
              "</div>\n",
              "</div>\n",
              "<div class=\"ad-card\">\n",
              "<img class=\"apto-img\" src=\"imagens/apto-02.jpg\"/>\n",
              "<div class=\"ad-card-info\">\n",
              "<h2>Ótimo lugar para morar</h2>\n",
              "<ul class=\"features\">\n",
              "<li><img src=\"imagens/area.png\"/> 60 m²</li>\n",
              "<li><img src=\"imagens/bedrooms.png\"/> 2 quarto(s)</li>\n",
              "<li><img src=\"imagens/toilet.png\"/> 2 banheiro(s)</li>\n",
              "<li><img src=\"imagens/parking.png\"/> 1 vaga(s)</li>\n",
              "</ul>\n",
              "<ul class=\"resources\">\n",
              "<li>Mobiliado</li>\n",
              "<li>Portaria 24h</li>\n",
              "<li>Salão de Festas</li>\n",
              "<li>Quadra poliesportiva</li>\n",
              "</ul>\n",
              "<p>Localização: Oceano Índico</p>\n",
              "</div>\n",
              "<div class=\"ad-card-price\">\n",
              "<p>Aluguel: R$ 2.000,00</p>\n",
              "<p>Condomínio: 200,00</p>\n",
              "<p>IPTU: R$ 50,00</p>\n",
              "<p>Corretora: Carangueijo</p>\n",
              "</div>\n",
              "</div>\n",
              "<div class=\"ad-card\">\n",
              "<img class=\"apto-img\" src=\"imagens/apto-03.jpg\"/>\n",
              "<div class=\"ad-card-info\">\n",
              "<h2>Belíssimo apartamento mobiliado</h2>\n",
              "<ul class=\"features\">\n",
              "<li><img src=\"imagens/area.png\"/> 50 m²</li>\n",
              "<li><img src=\"imagens/bedrooms.png\"/> 1 quarto(s)</li>\n",
              "<li><img src=\"imagens/toilet.png\"/> 1 banheiro(s)</li>\n",
              "<li><img src=\"imagens/parking.png\"/> 1 vaga(s)</li>\n",
              "</ul>\n",
              "<ul class=\"resources\">\n",
              "<li>Mobiliado</li>\n",
              "</ul>\n",
              "<p>Localização: Mar de Java</p>\n",
              "</div>\n",
              "<div class=\"ad-card-price\">\n",
              "<p>Aluguel: R$ 1.300,00</p>\n",
              "<p>Condomínio: 200,00</p>\n",
              "<p>IPTU: R$ 50,00</p>\n",
              "<p>Corretora: Baleia Azul</p>\n",
              "</div>\n",
              "</div>\n",
              "<div class=\"ad-card\">\n",
              "<img class=\"apto-img\" src=\"imagens/apto-04.jpg\"/>\n",
              "<div class=\"ad-card-info\">\n",
              "<h2>Um cantinho todo seu</h2>\n",
              "<ul class=\"features\">\n",
              "<li><img src=\"imagens/area.png\"/> 60 m²</li>\n",
              "<li><img src=\"imagens/bedrooms.png\"/> 2 quarto(s)</li>\n",
              "<li><img src=\"imagens/toilet.png\"/> 2 banheiro(s)</li>\n",
              "<li><img src=\"imagens/parking.png\"/> 1 vaga(s)</li>\n",
              "</ul>\n",
              "<ul class=\"resources\">\n",
              "<li>Mobiliado</li>\n",
              "<li>Portaria 24h</li>\n",
              "</ul>\n",
              "<p>Localização: Oceano Índico</p>\n",
              "</div>\n",
              "<div class=\"ad-card-price\">\n",
              "<p>Aluguel: R$ 1.800,00</p>\n",
              "<p>Condomínio: 100,00</p>\n",
              "<p>IPTU: R$ 20,00</p>\n",
              "<p>Corretora: Baleia Azul</p>\n",
              "</div>\n",
              "</div>\n",
              "<div class=\"ad-card\">\n",
              "<img class=\"apto-img\" src=\"imagens/apto-05.jpg\"/>\n",
              "<div class=\"ad-card-info\">\n",
              "<h2>Alugue já! Ótima oportunidade</h2>\n",
              "<ul class=\"features\">\n",
              "<li><img src=\"imagens/area.png\"/> 120 m²</li>\n",
              "<li><img src=\"imagens/bedrooms.png\"/> 4 quarto(s)</li>\n",
              "<li><img src=\"imagens/toilet.png\"/> 3 banheiro(s)</li>\n",
              "<li><img src=\"imagens/parking.png\"/> 2 vaga(s)</li>\n",
              "</ul>\n",
              "<ul class=\"resources\">\n",
              "<li>Mobiliado</li>\n",
              "<li>Portaria 24h</li>\n",
              "<li>Elevador</li>\n",
              "<li>Piscina</li>\n",
              "<li>Churrasqueira</li>\n",
              "<li>Salão de Festas</li>\n",
              "<li>Academia</li>\n",
              "<li>Playground</li>\n",
              "<li>Quadra poliesportiva</li>\n",
              "<li>Salão de jogos</li>\n",
              "<li>Aceita animais</li>\n",
              "</ul>\n",
              "<p>Localização: Oceano Pacífico</p>\n",
              "</div>\n",
              "<div class=\"ad-card-price\">\n",
              "<p>Aluguel: R$ 3.800,00</p>\n",
              "<p>Condomínio: 500,00</p>\n",
              "<p>IPTU: R$ 200,00</p>\n",
              "<p>Corretora: Tubarão</p>\n",
              "</div>\n",
              "</div>\n",
              "</div>\n",
              "<div class=\"pagination\">\n",
              "<a class=\"inactive\" href=\"#\">«</a>\n",
              "<a class=\"active\" href=\"#\">1</a>\n",
              "<a href=\"results&amp;page=2.html\">2</a>\n",
              "<a href=\"results&amp;page=3.html\">3</a>\n",
              "<a href=\"results&amp;page=2.html\">»</a>\n",
              "</div>\n",
              "</main>\n",
              "<footer>\n",
              "<img src=\"imagens/oceano-logo-cinza.png\"/>\n",
              "<p>Site criado para o curso de Web Scraping do Ocean</p>\n",
              "</footer>\n",
              "</body>\n",
              "</html>"
            ]
          },
          "metadata": {
            "tags": []
          },
          "execution_count": 67
        }
      ]
    },
    {
      "cell_type": "code",
      "metadata": {
        "trusted": true,
        "id": "E8vTmry5KSQB",
        "outputId": "a7e6d907-f012-488c-953a-4de313a807e3"
      },
      "source": [
        "print(soup_ocean_ws.prettify())"
      ],
      "execution_count": null,
      "outputs": [
        {
          "output_type": "stream",
          "text": [
            "<!DOCTYPE html>\n",
            "<html lang=\"pt-br\">\n",
            " <head>\n",
            "  <meta charset=\"utf-8\"/>\n",
            "  <meta content=\"width=device-width\" name=\"viewport\"/>\n",
            "  <title>\n",
            "   Oceano de Aluguéis\n",
            "  </title>\n",
            "  <link href=\"reset.css\" rel=\"stylesheet\"/>\n",
            "  <link href=\"style.css\" rel=\"stylesheet\"/>\n",
            "  <link href=\"https://fonts.googleapis.com/css?family=Montserrat&amp;display=swap\" rel=\"stylesheet\"/>\n",
            " </head>\n",
            " <body>\n",
            "  <header>\n",
            "   <div>\n",
            "    <img src=\"imagens/oceano-logo.png\"/>\n",
            "    <h1>\n",
            "     Oceano de Aluguéis\n",
            "    </h1>\n",
            "    <nav>\n",
            "     <ul>\n",
            "      <li>\n",
            "       <a href=\"results&amp;page=1.html\">\n",
            "        Resultados\n",
            "       </a>\n",
            "      </li>\n",
            "      <li>\n",
            "       <a href=\"corretoras.html\">\n",
            "        Corretoras\n",
            "       </a>\n",
            "      </li>\n",
            "      <li>\n",
            "       <a href=\"sobre.html\">\n",
            "        Sobre\n",
            "       </a>\n",
            "      </li>\n",
            "     </ul>\n",
            "    </nav>\n",
            "   </div>\n",
            "  </header>\n",
            "  <main>\n",
            "   <div class=\"ad-card-list\">\n",
            "    <p>\n",
            "     21 resultados obtidos - Página 1\n",
            "    </p>\n",
            "    <div class=\"ad-card\">\n",
            "     <img class=\"apto-img\" src=\"imagens/apto-01.jpg\"/>\n",
            "     <div class=\"ad-card-info\">\n",
            "      <h2>\n",
            "       Lindo apartamento para alugar\n",
            "      </h2>\n",
            "      <ul class=\"features\">\n",
            "       <li>\n",
            "        <img src=\"imagens/area.png\"/>\n",
            "        100 m²\n",
            "       </li>\n",
            "       <li>\n",
            "        <img src=\"imagens/bedrooms.png\"/>\n",
            "        3 quarto(s)\n",
            "       </li>\n",
            "       <li>\n",
            "        <img src=\"imagens/toilet.png\"/>\n",
            "        2 banheiro(s)\n",
            "       </li>\n",
            "       <li>\n",
            "        <img src=\"imagens/parking.png\"/>\n",
            "        2 vaga(s)\n",
            "       </li>\n",
            "      </ul>\n",
            "      <ul class=\"resources\">\n",
            "       <li>\n",
            "        Mobiliado\n",
            "       </li>\n",
            "       <li>\n",
            "        Portaria 24h\n",
            "       </li>\n",
            "       <li>\n",
            "        Elevador\n",
            "       </li>\n",
            "       <li>\n",
            "        Piscina\n",
            "       </li>\n",
            "       <li>\n",
            "        Churrasqueira\n",
            "       </li>\n",
            "       <li>\n",
            "        Salão de Festas\n",
            "       </li>\n",
            "       <li>\n",
            "        Academia\n",
            "       </li>\n",
            "       <li>\n",
            "        Playground\n",
            "       </li>\n",
            "       <li>\n",
            "        Quadra poliesportiva\n",
            "       </li>\n",
            "       <li>\n",
            "        Salão de jogos\n",
            "       </li>\n",
            "       <li>\n",
            "        Aceita animais\n",
            "       </li>\n",
            "      </ul>\n",
            "      <p>\n",
            "       Localização: Oceano Pacífico\n",
            "      </p>\n",
            "     </div>\n",
            "     <div class=\"ad-card-price\">\n",
            "      <p>\n",
            "       Aluguel: R$ 4.000,00\n",
            "      </p>\n",
            "      <p>\n",
            "       Condomínio: 500,00\n",
            "      </p>\n",
            "      <p>\n",
            "       IPTU: R$ 100,00\n",
            "      </p>\n",
            "      <p>\n",
            "       Corretora: Tubarão\n",
            "      </p>\n",
            "     </div>\n",
            "    </div>\n",
            "    <div class=\"ad-card\">\n",
            "     <img class=\"apto-img\" src=\"imagens/apto-02.jpg\"/>\n",
            "     <div class=\"ad-card-info\">\n",
            "      <h2>\n",
            "       Ótimo lugar para morar\n",
            "      </h2>\n",
            "      <ul class=\"features\">\n",
            "       <li>\n",
            "        <img src=\"imagens/area.png\"/>\n",
            "        60 m²\n",
            "       </li>\n",
            "       <li>\n",
            "        <img src=\"imagens/bedrooms.png\"/>\n",
            "        2 quarto(s)\n",
            "       </li>\n",
            "       <li>\n",
            "        <img src=\"imagens/toilet.png\"/>\n",
            "        2 banheiro(s)\n",
            "       </li>\n",
            "       <li>\n",
            "        <img src=\"imagens/parking.png\"/>\n",
            "        1 vaga(s)\n",
            "       </li>\n",
            "      </ul>\n",
            "      <ul class=\"resources\">\n",
            "       <li>\n",
            "        Mobiliado\n",
            "       </li>\n",
            "       <li>\n",
            "        Portaria 24h\n",
            "       </li>\n",
            "       <li>\n",
            "        Salão de Festas\n",
            "       </li>\n",
            "       <li>\n",
            "        Quadra poliesportiva\n",
            "       </li>\n",
            "      </ul>\n",
            "      <p>\n",
            "       Localização: Oceano Índico\n",
            "      </p>\n",
            "     </div>\n",
            "     <div class=\"ad-card-price\">\n",
            "      <p>\n",
            "       Aluguel: R$ 2.000,00\n",
            "      </p>\n",
            "      <p>\n",
            "       Condomínio: 200,00\n",
            "      </p>\n",
            "      <p>\n",
            "       IPTU: R$ 50,00\n",
            "      </p>\n",
            "      <p>\n",
            "       Corretora: Carangueijo\n",
            "      </p>\n",
            "     </div>\n",
            "    </div>\n",
            "    <div class=\"ad-card\">\n",
            "     <img class=\"apto-img\" src=\"imagens/apto-03.jpg\"/>\n",
            "     <div class=\"ad-card-info\">\n",
            "      <h2>\n",
            "       Belíssimo apartamento mobiliado\n",
            "      </h2>\n",
            "      <ul class=\"features\">\n",
            "       <li>\n",
            "        <img src=\"imagens/area.png\"/>\n",
            "        50 m²\n",
            "       </li>\n",
            "       <li>\n",
            "        <img src=\"imagens/bedrooms.png\"/>\n",
            "        1 quarto(s)\n",
            "       </li>\n",
            "       <li>\n",
            "        <img src=\"imagens/toilet.png\"/>\n",
            "        1 banheiro(s)\n",
            "       </li>\n",
            "       <li>\n",
            "        <img src=\"imagens/parking.png\"/>\n",
            "        1 vaga(s)\n",
            "       </li>\n",
            "      </ul>\n",
            "      <ul class=\"resources\">\n",
            "       <li>\n",
            "        Mobiliado\n",
            "       </li>\n",
            "      </ul>\n",
            "      <p>\n",
            "       Localização: Mar de Java\n",
            "      </p>\n",
            "     </div>\n",
            "     <div class=\"ad-card-price\">\n",
            "      <p>\n",
            "       Aluguel: R$ 1.300,00\n",
            "      </p>\n",
            "      <p>\n",
            "       Condomínio: 200,00\n",
            "      </p>\n",
            "      <p>\n",
            "       IPTU: R$ 50,00\n",
            "      </p>\n",
            "      <p>\n",
            "       Corretora: Baleia Azul\n",
            "      </p>\n",
            "     </div>\n",
            "    </div>\n",
            "    <div class=\"ad-card\">\n",
            "     <img class=\"apto-img\" src=\"imagens/apto-04.jpg\"/>\n",
            "     <div class=\"ad-card-info\">\n",
            "      <h2>\n",
            "       Um cantinho todo seu\n",
            "      </h2>\n",
            "      <ul class=\"features\">\n",
            "       <li>\n",
            "        <img src=\"imagens/area.png\"/>\n",
            "        60 m²\n",
            "       </li>\n",
            "       <li>\n",
            "        <img src=\"imagens/bedrooms.png\"/>\n",
            "        2 quarto(s)\n",
            "       </li>\n",
            "       <li>\n",
            "        <img src=\"imagens/toilet.png\"/>\n",
            "        2 banheiro(s)\n",
            "       </li>\n",
            "       <li>\n",
            "        <img src=\"imagens/parking.png\"/>\n",
            "        1 vaga(s)\n",
            "       </li>\n",
            "      </ul>\n",
            "      <ul class=\"resources\">\n",
            "       <li>\n",
            "        Mobiliado\n",
            "       </li>\n",
            "       <li>\n",
            "        Portaria 24h\n",
            "       </li>\n",
            "      </ul>\n",
            "      <p>\n",
            "       Localização: Oceano Índico\n",
            "      </p>\n",
            "     </div>\n",
            "     <div class=\"ad-card-price\">\n",
            "      <p>\n",
            "       Aluguel: R$ 1.800,00\n",
            "      </p>\n",
            "      <p>\n",
            "       Condomínio: 100,00\n",
            "      </p>\n",
            "      <p>\n",
            "       IPTU: R$ 20,00\n",
            "      </p>\n",
            "      <p>\n",
            "       Corretora: Baleia Azul\n",
            "      </p>\n",
            "     </div>\n",
            "    </div>\n",
            "    <div class=\"ad-card\">\n",
            "     <img class=\"apto-img\" src=\"imagens/apto-05.jpg\"/>\n",
            "     <div class=\"ad-card-info\">\n",
            "      <h2>\n",
            "       Alugue já! Ótima oportunidade\n",
            "      </h2>\n",
            "      <ul class=\"features\">\n",
            "       <li>\n",
            "        <img src=\"imagens/area.png\"/>\n",
            "        120 m²\n",
            "       </li>\n",
            "       <li>\n",
            "        <img src=\"imagens/bedrooms.png\"/>\n",
            "        4 quarto(s)\n",
            "       </li>\n",
            "       <li>\n",
            "        <img src=\"imagens/toilet.png\"/>\n",
            "        3 banheiro(s)\n",
            "       </li>\n",
            "       <li>\n",
            "        <img src=\"imagens/parking.png\"/>\n",
            "        2 vaga(s)\n",
            "       </li>\n",
            "      </ul>\n",
            "      <ul class=\"resources\">\n",
            "       <li>\n",
            "        Mobiliado\n",
            "       </li>\n",
            "       <li>\n",
            "        Portaria 24h\n",
            "       </li>\n",
            "       <li>\n",
            "        Elevador\n",
            "       </li>\n",
            "       <li>\n",
            "        Piscina\n",
            "       </li>\n",
            "       <li>\n",
            "        Churrasqueira\n",
            "       </li>\n",
            "       <li>\n",
            "        Salão de Festas\n",
            "       </li>\n",
            "       <li>\n",
            "        Academia\n",
            "       </li>\n",
            "       <li>\n",
            "        Playground\n",
            "       </li>\n",
            "       <li>\n",
            "        Quadra poliesportiva\n",
            "       </li>\n",
            "       <li>\n",
            "        Salão de jogos\n",
            "       </li>\n",
            "       <li>\n",
            "        Aceita animais\n",
            "       </li>\n",
            "      </ul>\n",
            "      <p>\n",
            "       Localização: Oceano Pacífico\n",
            "      </p>\n",
            "     </div>\n",
            "     <div class=\"ad-card-price\">\n",
            "      <p>\n",
            "       Aluguel: R$ 3.800,00\n",
            "      </p>\n",
            "      <p>\n",
            "       Condomínio: 500,00\n",
            "      </p>\n",
            "      <p>\n",
            "       IPTU: R$ 200,00\n",
            "      </p>\n",
            "      <p>\n",
            "       Corretora: Tubarão\n",
            "      </p>\n",
            "     </div>\n",
            "    </div>\n",
            "   </div>\n",
            "   <div class=\"pagination\">\n",
            "    <a class=\"inactive\" href=\"#\">\n",
            "     «\n",
            "    </a>\n",
            "    <a class=\"active\" href=\"#\">\n",
            "     1\n",
            "    </a>\n",
            "    <a href=\"results&amp;page=2.html\">\n",
            "     2\n",
            "    </a>\n",
            "    <a href=\"results&amp;page=3.html\">\n",
            "     3\n",
            "    </a>\n",
            "    <a href=\"results&amp;page=2.html\">\n",
            "     »\n",
            "    </a>\n",
            "   </div>\n",
            "  </main>\n",
            "  <footer>\n",
            "   <img src=\"imagens/oceano-logo-cinza.png\"/>\n",
            "   <p>\n",
            "    Site criado para o curso de Web Scraping do Ocean\n",
            "   </p>\n",
            "  </footer>\n",
            " </body>\n",
            "</html>\n"
          ],
          "name": "stdout"
        }
      ]
    },
    {
      "cell_type": "markdown",
      "metadata": {
        "id": "UZmg-yOXKSQC"
      },
      "source": [
        "### Mini-desafio 3: complete a lista de desafios da página 'Sobre'\n",
        "\n",
        "\n",
        "* https://ocean-web-scraping.herokuapp.com/sobre.html"
      ]
    },
    {
      "cell_type": "code",
      "metadata": {
        "trusted": true,
        "id": "RcZUu6wDKSQC"
      },
      "source": [
        "# Insira a sua resposta aqui"
      ],
      "execution_count": null,
      "outputs": []
    }
  ]
}